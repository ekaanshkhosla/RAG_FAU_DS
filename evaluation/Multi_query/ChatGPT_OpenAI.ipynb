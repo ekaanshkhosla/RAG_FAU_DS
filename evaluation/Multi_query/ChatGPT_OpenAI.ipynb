{
 "cells": [
  {
   "cell_type": "code",
   "execution_count": 1,
   "metadata": {},
   "outputs": [
    {
     "data": {
      "text/plain": [
       "True"
      ]
     },
     "execution_count": 1,
     "metadata": {},
     "output_type": "execute_result"
    }
   ],
   "source": [
    "import os\n",
    "from dotenv import load_dotenv\n",
    "\n",
    "# Load environment variables from the .env file\n",
    "load_dotenv(dotenv_path=\"../../keys/.env\")"
   ]
  },
  {
   "cell_type": "code",
   "execution_count": 2,
   "metadata": {},
   "outputs": [],
   "source": [
    "langchain_api_key = os.getenv(\"LANGCHAIN_API_KEY\")"
   ]
  },
  {
   "cell_type": "code",
   "execution_count": 3,
   "metadata": {},
   "outputs": [],
   "source": [
    "import os\n",
    "\n",
    "os.environ[\"LANGCHAIN_TRACING_V2\"] = \"true\"\n",
    "os.environ[\"LANGCHAIN_ENDPOINT\"] = \"https://api.smith.langchain.com\"\n",
    "langchain_api_key = os.getenv(\"LANGCHAIN_API_KEY\")"
   ]
  },
  {
   "cell_type": "code",
   "execution_count": 4,
   "metadata": {},
   "outputs": [
    {
     "name": "stderr",
     "output_type": "stream",
     "text": [
      "USER_AGENT environment variable not set, consider setting it to identify your requests.\n"
     ]
    }
   ],
   "source": [
    "from langchain_community.document_loaders import PyPDFLoader, WebBaseLoader\n",
    "from langchain.text_splitter import RecursiveCharacterTextSplitter\n",
    "\n",
    "# List of PDF file paths\n",
    "pdf_dir = \"../../data/pdfs\"\n",
    "pdf_files = [os.path.join(pdf_dir, file) for file in os.listdir(pdf_dir) if file.endswith(\".pdf\")]\n",
    "\n",
    "# URLs to load\n",
    "urls = [\n",
    "    \"https://www.math-datascience.nat.fau.de/im-studium/masterstudiengaenge/master-data-science/\",\n",
    "    \"https://www.fau.eu/studiengang/data-science-bsc/\",\n",
    "    \"https://www.fau.eu/studiengang/data-science-msc/\",\n",
    "]\n",
    "\n",
    "# Initialize an empty list to hold all document splits\n",
    "all_doc_splits = []\n",
    "\n",
    "# Define the text splitter with a chunk size of 1000 characters and overlap of 200\n",
    "text_splitter = RecursiveCharacterTextSplitter.from_tiktoken_encoder(\n",
    "    chunk_size=1000, \n",
    "    chunk_overlap=200)\n",
    "\n",
    "### Process PDF files ###\n",
    "for pdf_file in pdf_files:\n",
    "    # Load the PDF\n",
    "    pdf_loader = PyPDFLoader(pdf_file)\n",
    "    documents = pdf_loader.load()\n",
    "    \n",
    "    # Split the documents into chunks\n",
    "    doc_splits = text_splitter.split_documents(documents)\n",
    "    \n",
    "    # Add the splits to the overall list\n",
    "    all_doc_splits.extend(doc_splits)\n",
    "\n",
    "### Process Web URLs ###\n",
    "docs = [WebBaseLoader(url).load() for url in urls]\n",
    "docs_list = [item for sublist in docs for item in sublist]\n",
    "\n",
    "# Split the web documents into chunks\n",
    "web_doc_splits = text_splitter.split_documents(docs_list)\n",
    "\n",
    "# Add the web document splits to the overall list\n",
    "all_doc_splits.extend(web_doc_splits)\n",
    "\n",
    "# Now, all_doc_splits contains the splits from both the PDF files and the web documents."
   ]
  },
  {
   "cell_type": "code",
   "execution_count": 5,
   "metadata": {},
   "outputs": [
    {
     "name": "stdout",
     "output_type": "stream",
     "text": [
      "175\n"
     ]
    }
   ],
   "source": [
    "print(len(all_doc_splits))"
   ]
  },
  {
   "cell_type": "code",
   "execution_count": 6,
   "metadata": {},
   "outputs": [],
   "source": [
    "# Index\n",
    "from langchain_openai import OpenAIEmbeddings\n",
    "from langchain_community.vectorstores import Chroma\n",
    "from langchain_community.vectorstores import SKLearnVectorStore\n",
    "from langchain_community.vectorstores import FAISS\n",
    "\n",
    "\n",
    "vectorstore = FAISS.from_documents(documents=all_doc_splits, \n",
    "                                    embedding=OpenAIEmbeddings())\n",
    "\n",
    "retriever = vectorstore.as_retriever()"
   ]
  },
  {
   "cell_type": "code",
   "execution_count": 7,
   "metadata": {},
   "outputs": [],
   "source": [
    "from langchain.prompts import ChatPromptTemplate\n",
    "from langchain_groq import ChatGroq\n",
    "\n",
    "# Multi Query: Different Perspectives\n",
    "template = \"\"\"You are an AI language model assistant. Your task is to generate three \n",
    "different versions of the given user question to retrieve relevant documents from a vector \n",
    "database. By generating multiple perspectives on the user question, your goal is to help\n",
    "the user overcome some of the limitations of the distance-based similarity search. \n",
    "Provide these alternative three questions separated by one empty line, give only questions and nothing else. Original question: {question}\"\"\"\n",
    "\n",
    "prompt_perspectives = ChatPromptTemplate.from_template(template)\n",
    "\n",
    "from langchain_core.output_parsers import StrOutputParser\n",
    "from langchain_openai import ChatOpenAI\n",
    "\n",
    "generate_queries = (\n",
    "    prompt_perspectives \n",
    "    | ChatOpenAI(model_name=\"gpt-4o-mini\")\n",
    "    | StrOutputParser() \n",
    "    | (lambda x: x.split(\"\\n\\n\"))\n",
    ")"
   ]
  },
  {
   "cell_type": "code",
   "execution_count": 8,
   "metadata": {},
   "outputs": [],
   "source": [
    "questions = [\n",
    "    \"Will the language of instruction of my Bachelor’s degree suffice to demonstrate my proficiency in English for admission in MSc Data Science at FAU Erlangen?\",\n",
    "    \"Is it possible to defer my admission to a future semester?\",\n",
    "    \"What are the consequences of failing an examination three times?\",\n",
    "    \"Who is eligible to supervise my Master’s thesis?\",\n",
    "    \"How many ECTS credits are required before I can start writing my Master’s thesis?\",\n",
    "    \"What are the admission requirements of MSc Data Science?\",\n",
    "    \"What is the teaching language of MSc Data Science?\",\n",
    "    \"What is the teaching language of BSc Data Science?\",\n",
    "    \"What are the next steps if I get an admission?\",\n",
    "    \"Is German required for MSc Data Science?\",\n",
    "    \"As your application period will start on 15 February 2024 for the winter semester 2024/25, I have received an offer letter for the summer semester 2024. Do I have to reapply to defer my admission? Can I reapply with my existing account on the Campo portal, which I used for the summer semester, or do I have to open a new account to reapply for the winter 2024/25?\",\n",
    "    \"Hello, I have applied to a Master's degree program in Data Science (both part-time and full-time) at FAU. Unfortunately, I have not added my previous offer letter (offer letter is attached below). However, the application portal is not letting me add this offer letter now as it says I cannot change it because my other applications are in process. How do I add this now? I have tried to contact the Masterbüro and admission office, but I have not received any response yet!\",\n",
    "    \"I just wanted to know if the course 'Trustworthy Artificial Intelligence' can be taken as a Master Seminar in my course. On Campo, I find it mentioned as both a Master Seminar and an application subject (screenshot attached). Just to clarify before taking the subject.\",\n",
    "    \"I am currently pursuing a Master's degree in Data Science. I have registered for the course 'Machine Learning for Engineers 1' for the upcoming examination. Is it eligible to be counted towards the requirements of my degree program? If it is, could you please inform me under which category it falls? I would greatly appreciate your guidance on this matter.\",\n",
    "    \"What exactly defines the completion of a degree? Is it the transcript showing 120 ECTS? Let’s say I complete my thesis in September, but the transcript gets updated exactly on 15th October (for example). According to the university, will I be de-enrolled at the end of the Winter semester 2025? But if I apply for de-enrollment myself, can I be de-enrolled at any time during the winter semester? Hope I understood the information correctly.\",\n",
    "    \"Sir/Madam, I am a prospective student of your esteemed university from India. I would like to join the Master's program in Data Science (English-taught) in 2024. I have some doubts regarding the full-time study program: 1) What is the duration of a single semester? 2) How many hours of class should I take in a week? 3) If I opt for the full-time study program, would I be able to do part-time jobs? Eagerly waiting for your reply.\",\n",
    "    \"I'm a final-year Electrical Engineering student at NUST, Pakistan, interested in the Master's in Data Science program. Having taken relevant coursework in statistics and computer science, along with online courses, I'm curious about my eligibility. My transcript is attached for review.\",\n",
    "    \"I have failed two courses: 'Mathematical Foundations of Artificial Intelligence' and 'Neural Networks and Data Analytics - Artificial Intelligence I'. Both of them have not been registered for the exam automatically. Last semester, my failed courses were registered automatically, but this time, it doesn't look like that. Please clarify!\",\n",
    "    \"I am a Master's in Data Science student keen to enroll in a Computer Vision Seminar. This seminar is closely related to my academic and career goals. I also got enrolled in this course. However, I couldn't find it in the current course catalog for our program. I kindly request the addition of the Computer Vision Seminar to our course offerings. I believe it will greatly benefit students interested in this field. Your consideration is greatly appreciated.\",\n",
    "    \"I am from Data Science, and I am writing to seek your guidance regarding the completion of my major module requirements. I have completed all my credits except for 2.5 ECTS in the major module. In light of this, I would like to ask whether I can fulfill this requirement by taking only a 2.5 ECTS subject, or if I can also consider enrolling in a 5 ECTS subject to meet this requirement. I would appreciate your advice on the best course of action to ensure I complete my credits in a timely and effective manner.\"\n",
    "]"
   ]
  },
  {
   "cell_type": "code",
   "execution_count": 9,
   "metadata": {},
   "outputs": [],
   "source": [
    "from langchain.load import dumps, loads\n",
    "\n",
    "def get_unique_union(documents: list[list]):\n",
    "    \"\"\" Unique union of retrieved docs \"\"\"\n",
    "    # Flatten list of lists, and convert each Document to string\n",
    "    flattened_docs = [dumps(doc) for sublist in documents for doc in sublist]\n",
    "    # Get unique documents\n",
    "    unique_docs = list(set(flattened_docs))\n",
    "    # Return\n",
    "    return [loads(doc) for doc in unique_docs]"
   ]
  },
  {
   "cell_type": "code",
   "execution_count": 10,
   "metadata": {},
   "outputs": [
    {
     "name": "stderr",
     "output_type": "stream",
     "text": [
      "C:\\Users\\ekaan\\AppData\\Local\\Temp\\ipykernel_11032\\170002541.py:10: LangChainBetaWarning: The function `loads` is in beta. It is actively being worked on, so the API may change.\n",
      "  return [loads(doc) for doc in unique_docs]\n"
     ]
    }
   ],
   "source": [
    "answers = []\n",
    "for question in questions:\n",
    "    retrieval_chain = generate_queries | retriever.map() | get_unique_union\n",
    "    docs = retrieval_chain.invoke({\"question\":question})\n",
    "\n",
    "    from operator import itemgetter\n",
    "    from langchain_openai import ChatOpenAI\n",
    "    from langchain_core.runnables import RunnablePassthrough\n",
    "\n",
    "    # RAG\n",
    "    template = \"\"\"Answer the following question based on this context:\n",
    "\n",
    "    {context}\n",
    "\n",
    "    Question: {question}\n",
    "    \"\"\"\n",
    "\n",
    "    prompt = ChatPromptTemplate.from_template(template)\n",
    "\n",
    "    final_rag_chain = (\n",
    "        {\"context\": retrieval_chain, \n",
    "        \"question\": itemgetter(\"question\")} \n",
    "        | prompt\n",
    "        | ChatOpenAI(model_name=\"gpt-4o-mini\")\n",
    "        | StrOutputParser()\n",
    "    )\n",
    "\n",
    "    ans = final_rag_chain.invoke({\"question\":question})\n",
    "    answers.append(ans)"
   ]
  },
  {
   "cell_type": "code",
   "execution_count": 11,
   "metadata": {},
   "outputs": [
    {
     "data": {
      "text/plain": [
       "['Yes, if your Bachelor’s degree was taught in English, you can apply with a certificate from your university stating that the medium of instruction for your degree has been in English.',\n",
       " 'Yes, it is possible to defer your admission to a future semester. You should refer to the procedure outlined in your admission letter for the details on how to defer your semester.',\n",
       " 'The consequences of failing an examination three times are as follows:\\n\\n1. The module will be counted as not being passed, and this status cannot be changed. \\n2. The student will not be able to pass this module in the future.\\n3. If the module is an elective mandatory module (core elective module), the student can choose another module and continue their studies.\\n4. If the module is a core module of the study course, the student will not be able to continue their studies in that program.',\n",
       " 'To be eligible to supervise your Master’s thesis, you need a primary supervisor who is a professor from one of the following departments: Department of Mathematics, Department of Computer Science, Department of Data Science, or Department AIBE. If you wish to have a supervisor from an alternative department, you must seek permission from the admissions committee in advance. Additionally, the second examiner for your Master’s thesis must belong to one of these four departments. If you are completing your thesis in a company, it is mandatory to have a university supervisor as well.',\n",
       " 'It is highly recommended that you complete 75 ECTS of your study curriculum before you can start writing your Master’s thesis. Additionally, you should have completed all core modules and all modules of your major subject first.',\n",
       " \"The admission requirements for the MSc Data Science program at Friedrich-Alexander-Universität Erlangen-Nürnberg (FAU) include:\\n\\n1. A completed Bachelor's degree in one of the following fields:\\n   - Mathematics\\n   - Industrial Mathematics\\n   - Mathematical Economy\\n   - Computer Science\\n   - Data Science\\n   - Physics\\n   - An equivalent domestic or international degree that is not significantly different in terms of the competence profile taught in the respective degree.\\n\\n2. Qualification assessment for international students.\\n\\nIt is important to ensure that your academic background meets these criteria to apply successfully.\",\n",
       " 'The teaching language of the MSc Data Science program is primarily English, although some courses, particularly those in the specializations Mathematical Theory/Fundamentals of Data Science and Mathematical Statistical Data Analysis, may be taught in German.',\n",
       " 'The teaching language of the B.Sc. Data Science program is completely in German.',\n",
       " \"If you receive an admission to the Master's program in Data Science at FAU, the next steps typically include:\\n\\n1. **Enrollment**: Follow the instructions provided in your admission letter to complete the enrollment process. This may involve submitting necessary documents and paying tuition fees.\\n\\n2. **Visa Application**: If you are an international student, you would need to apply for a student visa to study in Germany. Ensure you do this in a timely manner to avoid delays.\\n\\n3. **Course Registration**: Once enrolled, you will need to register for your courses/modules through the university's online system (e.g., Campo portal) during the registration periods.\\n\\n4. **Accommodation**: If you require housing, start looking for accommodation options as soon as possible, as student housing can be competitive.\\n\\n5. **Attend Orientation**: Participate in any orientation programs offered by the university to get familiar with the campus, resources, and fellow students.\\n\\n6. **Review Study Program**: Familiarize yourself with the curriculum, course requirements, and any specific modules you need to take.\\n\\n7. **Contact Academic Advisors**: If you have any specific questions or need guidance on your study plan, reach out to academic advisors or coordinators.\\n\\n8. **Prepare for Classes**: Gather any materials you might need for your courses and ensure you're ready to start your studies.\\n\\nMake sure to keep an eye on any deadlines for these steps to ensure a smooth transition into your program.\",\n",
       " 'German language skills are recommended at a B1 level for the MSc Data Science program, particularly for everyday life and for internships and working student jobs. However, a certificate of German proficiency is not necessary for the application. The program is primarily taught in English, but some courses may be conducted in German.',\n",
       " 'You can reapply using your existing Campo account.',\n",
       " \"It appears that you are unable to add your previous offer letter to your application because the application portal has restrictions in place while other applications are being processed. Unfortunately, it has been indicated that due to a recent change in the examination regulations for the Data Science program, your application will be completely re-examined and re-evaluated regardless of whether the offer letter is uploaded or not. Therefore, it may not be necessary to add the letter at this point.\\n\\nIf you wish to seek further clarification or assistance, it is suggested that you continue to reach out to the Master's office at FAU. They may provide you with the guidance you need regarding your situation. You can find their contact information on the FAU website.\",\n",
       " 'Yes, as you found out on Campo, the course \"Trustworthy Artificial Intelligence\" can be counted as a Master seminar in your course.',\n",
       " \"The course 'Machine Learning for Engineers 1' does not fall under the Master's program in Data Science as a major or minor course. It is classified as an additional subject. Therefore, it is not eligible to be counted towards the requirements of your degree program. If you need further clarification or assistance, it is advisable to consult with your academic advisor or the relevant department.\",\n",
       " 'Completion of a degree is defined by the successful completion of 120 ECTS, which includes all required core, major, minor, and application modules as well as the thesis. If you complete your thesis in September and your transcript is updated by the end of September 2024, you will be de-registered by the end of the Summer Semester 2024. However, if you complete your 120 ECTS in October 2024, then you would be de-registered at the end of the Winter Semester 2024-25.\\n\\nYou are correct that if you decide to apply for de-enrollment yourself, you can do so at any time during the winter semester, regardless of the timing of your transcript update.',\n",
       " 'Dear Prospective Student,\\n\\nThank you for your interest in the Master’s program in Data Science at our university. I’m happy to address your questions regarding the full-time study program:\\n\\n1) **Duration of a single semester**: A typical semester lasts approximately 6 months, with the academic year usually divided into a winter semester and a summer semester.\\n\\n2) **Hours of class per week**: The number of class hours (SWS - semester hours per week) can vary depending on the specific modules you choose. Generally, for a full-time study program, students can expect to attend classes for around 15 hours per week, though this can vary based on the specific courses and modules selected.\\n\\n3) **Part-time jobs while studying full-time**: While it is possible to work part-time during your studies, it is important to manage your time effectively. Full-time students are often advised to limit their working hours to around 20 hours per week to ensure they can keep up with their academic commitments.\\n\\nIf you have any further questions or need more specific information, please feel free to reach out.\\n\\nBest regards,  \\n[Your Name]  \\n[Your Position]  \\nFriedrich-Alexander Universität Erlangen-Nürnberg',\n",
       " \"To determine your eligibility for the Master's in Data Science program, you will need to apply through the designated application portal. The admissions committee will evaluate your profile based on the qualifications you submit during the application process, including your transcript. It's important to ensure that your academic background aligns with the program's requirements. If you have relevant coursework in statistics and computer science, this may strengthen your application. Please proceed with your application to receive a formal assessment of your eligibility.\",\n",
       " \"The automatic re-registration for second attempts in examinations is done manually by the examination office. Since you have failed two courses and they have not been registered automatically, it may be due to an issue with the examination office's manual process. It is advisable to contact the examination office directly to clarify your situation and ensure that you are registered for the exams.\",\n",
       " 'To enroll in the Computer Vision Seminar, you should send a course description with all its details (e.g., module number, exact name in Campo) to the examination committee. Ask them if the seminar can be included in one of the module groups of the M.Sc. Data Science program. This will help in advocating for its addition to the course offerings.',\n",
       " 'Based on the provided context, you can fulfill your major module requirement by taking a 2.5 ECTS subject. However, you also have the option to enroll in a 5 ECTS subject. Since ECTS credits can be accumulated, both options would be acceptable to meet your requirement. It is advisable to check with your program coordinator or academic advisor to confirm the specific policies regarding credit fulfillment and to ensure that the subjects you are considering are aligned with your program’s requirements.']"
      ]
     },
     "execution_count": 11,
     "metadata": {},
     "output_type": "execute_result"
    }
   ],
   "source": [
    "answers"
   ]
  },
  {
   "cell_type": "code",
   "execution_count": 12,
   "metadata": {},
   "outputs": [],
   "source": [
    "Ground_truth = [\n",
    "    \"Yes, if your Bachelor’s degree was taught in English then you can apply with a certificate from your university stating that the language of instruction for your degree has been in English.\",\n",
    "    \"Yes, it is possible to defer your admission. Just re-apply for the next semester and upload the current admission letter you received. You will be granted admission provided that there are no significant changes to the regulations and selection criteria.\",\n",
    "    \"After three unsuccessful attempts for an examination, the module will be counted as not being passed. This state cannot be changed, and you cannot pass this module in the future. If the module is an elective mandatory module (core elective module in Campo), you can choose another module and continue your studies. If the module is a core module of your study course (Mathematics of Learning, Selected Topics of Mathematics of Learning, or Deep Learning), you cannot continue your studies in this program at FAU.\",\n",
    "    \"To start your Master’s thesis, you need an official supervisor from FAU. The person must be a professor or at least have completed a habilitation ('Dr. habil.' or 'PD') and must be a member of one of the following departments: Data Science, Mathematics, Computer Science, or Artificial Intelligence in Biomedical Engineering (AIBE). Professors who are secondary members in these departments can also supervise. Your official supervisor is also the first examiner of your thesis and should propose a second examiner from any department at FAU. Additional guidance from PhD students is possible, but they cannot be official supervisors.\",\n",
    "    \"It is highly recommended that you complete 75 ECTS of your study curriculum before choosing a Master’s seminar topic. You should complete all core modules and major modules first. Your thesis topic should ideally align with your specialization and Master’s seminar, following §54 of the examination regulations ('Mentoring') and your individual study agreement.\",\n",
    "    \"A completed B.Sc. degree in Mathematics, Industrial Mathematics, Mathematical Economy, Computer Science, Data Science, or Physics from FAU or an equivalent domestic or international degree that aligns with the competence profile of the program. A GPA of 2.5 or better (German grading system) is required. Applicants with a GPA between 2.6 and 2.8 will be invited for an online interview assessing their knowledge of calculus, linear algebra, algorithms, and data structures. English proficiency at B2 CEFR or proof of English-taught education is required.\",\n",
    "    \"Completely in English.\",\n",
    "    \"Completely in German.\",\n",
    "    \"After receiving your admission letter, you must enroll for the next semester by sending certified documents via postal service to the Student Records Office. The enrollment fee should be transferred in advance, especially if transferring from abroad (recommended two weeks before). After enrollment, you gain access to online teaching resources and platforms like StudOn and Campo.\",\n",
    "    \"No, but solid German knowledge (B1) is recommended for daily life, internships, and working student jobs. However, a certificate is not required for the application.\",\n",
    "    \"You can reapply using your existing Campo account.\",\n",
    "    \"Due to the abolition of the 60 ECTS regulation from the winter semester 2022/23, the examination regulations of the Data Science program changed. The letter of admission from winter semester 2021/22 will no longer be recognized. Your application will be completely re-examined and re-evaluated, so uploading the previous offer letter makes no difference.\",\n",
    "    \"As you found on Campo, the seminar can be counted as a Master Seminar.\",\n",
    "    \"This course is not recognized for the MSc Data Science study program. Therefore, even if you attend this course, you will not be able to accredit any ECTS.\",\n",
    "    \"To complete your degree, you need 120 ECTS, including all core, major, minor, application modules, seminar, and thesis. If you complete 120 ECTS by September 2024 and your supervisor submits your thesis grade before the end of September, you will be deregistered at the end of the summer semester 2024. If you complete it in October 2024, you will be deregistered at the end of the winter semester 2024/25. You can also choose to de-register earlier if desired.\",\n",
    "    \"1) The duration of one semester is 6 months. 2) There is no restriction on study hours per week. You can take subjects at your comfort, but 30 ECTS per semester is recommended (1 ECTS = 1 hour of study). 3) Yes, you can work part-time. A student can work up to 20 hours per week with a part-time student job.\",\n",
    "    \"The admissions committee evaluates your profile only after you apply via the Campo portal.\",\n",
    "    \"The automatic re-registration for second attempts in examinations is done manually by the examination office.\",\n",
    "    \"I recommend sending a course description for the seminar, including details like the module number and exact name in Campo, to the examination committee and asking if the seminar can be included in one of the module groups of the MSc Data Science program.\",\n",
    "    \"You can complete a 5 ECTS module instead of a 2.5 ECTS module. Just ensure that you meet at least the 2.5 ECTS requirement.\"\n",
    "]"
   ]
  },
  {
   "cell_type": "code",
   "execution_count": 13,
   "metadata": {},
   "outputs": [],
   "source": [
    "from datasets import Dataset \n",
    "from ragas.metrics import faithfulness, answer_correctness\n",
    "from ragas import evaluate"
   ]
  },
  {
   "cell_type": "code",
   "execution_count": 14,
   "metadata": {},
   "outputs": [
    {
     "data": {
      "application/vnd.jupyter.widget-view+json": {
       "model_id": "36d39ec597ea483895ff3e8c1f0e4e76",
       "version_major": 2,
       "version_minor": 0
      },
      "text/plain": [
       "Evaluating:   0%|          | 0/20 [00:00<?, ?it/s]"
      ]
     },
     "metadata": {},
     "output_type": "display_data"
    },
    {
     "data": {
      "text/html": [
       "<div>\n",
       "<style scoped>\n",
       "    .dataframe tbody tr th:only-of-type {\n",
       "        vertical-align: middle;\n",
       "    }\n",
       "\n",
       "    .dataframe tbody tr th {\n",
       "        vertical-align: top;\n",
       "    }\n",
       "\n",
       "    .dataframe thead th {\n",
       "        text-align: right;\n",
       "    }\n",
       "</style>\n",
       "<table border=\"1\" class=\"dataframe\">\n",
       "  <thead>\n",
       "    <tr style=\"text-align: right;\">\n",
       "      <th></th>\n",
       "      <th>user_input</th>\n",
       "      <th>response</th>\n",
       "      <th>reference</th>\n",
       "      <th>answer_correctness</th>\n",
       "    </tr>\n",
       "  </thead>\n",
       "  <tbody>\n",
       "    <tr>\n",
       "      <th>0</th>\n",
       "      <td>Will the language of instruction of my Bachelo...</td>\n",
       "      <td>Yes, if your Bachelor’s degree was taught in E...</td>\n",
       "      <td>Yes, if your Bachelor’s degree was taught in E...</td>\n",
       "      <td>0.748074</td>\n",
       "    </tr>\n",
       "    <tr>\n",
       "      <th>1</th>\n",
       "      <td>Is it possible to defer my admission to a futu...</td>\n",
       "      <td>Yes, it is possible to defer your admission to...</td>\n",
       "      <td>Yes, it is possible to defer your admission. J...</td>\n",
       "      <td>0.728526</td>\n",
       "    </tr>\n",
       "    <tr>\n",
       "      <th>2</th>\n",
       "      <td>What are the consequences of failing an examin...</td>\n",
       "      <td>The consequences of failing an examination thr...</td>\n",
       "      <td>After three unsuccessful attempts for an exami...</td>\n",
       "      <td>0.981538</td>\n",
       "    </tr>\n",
       "    <tr>\n",
       "      <th>3</th>\n",
       "      <td>Who is eligible to supervise my Master’s thesis?</td>\n",
       "      <td>To be eligible to supervise your Master’s thes...</td>\n",
       "      <td>To start your Master’s thesis, you need an off...</td>\n",
       "      <td>0.555757</td>\n",
       "    </tr>\n",
       "    <tr>\n",
       "      <th>4</th>\n",
       "      <td>How many ECTS credits are required before I ca...</td>\n",
       "      <td>It is highly recommended that you complete 75 ...</td>\n",
       "      <td>It is highly recommended that you complete 75 ...</td>\n",
       "      <td>0.737341</td>\n",
       "    </tr>\n",
       "    <tr>\n",
       "      <th>5</th>\n",
       "      <td>What are the admission requirements of MSc Dat...</td>\n",
       "      <td>The admission requirements for the MSc Data Sc...</td>\n",
       "      <td>A completed B.Sc. degree in Mathematics, Indus...</td>\n",
       "      <td>0.729367</td>\n",
       "    </tr>\n",
       "    <tr>\n",
       "      <th>6</th>\n",
       "      <td>What is the teaching language of MSc Data Scie...</td>\n",
       "      <td>The teaching language of the MSc Data Science ...</td>\n",
       "      <td>Completely in English.</td>\n",
       "      <td>0.695913</td>\n",
       "    </tr>\n",
       "    <tr>\n",
       "      <th>7</th>\n",
       "      <td>What is the teaching language of BSc Data Scie...</td>\n",
       "      <td>The teaching language of the B.Sc. Data Scienc...</td>\n",
       "      <td>Completely in German.</td>\n",
       "      <td>0.968414</td>\n",
       "    </tr>\n",
       "    <tr>\n",
       "      <th>8</th>\n",
       "      <td>What are the next steps if I get an admission?</td>\n",
       "      <td>If you receive an admission to the Master's pr...</td>\n",
       "      <td>After receiving your admission letter, you mus...</td>\n",
       "      <td>0.383668</td>\n",
       "    </tr>\n",
       "    <tr>\n",
       "      <th>9</th>\n",
       "      <td>Is German required for MSc Data Science?</td>\n",
       "      <td>German language skills are recommended at a B1...</td>\n",
       "      <td>No, but solid German knowledge (B1) is recomme...</td>\n",
       "      <td>0.821094</td>\n",
       "    </tr>\n",
       "    <tr>\n",
       "      <th>10</th>\n",
       "      <td>As your application period will start on 15 Fe...</td>\n",
       "      <td>You can reapply using your existing Campo acco...</td>\n",
       "      <td>You can reapply using your existing Campo acco...</td>\n",
       "      <td>1.000000</td>\n",
       "    </tr>\n",
       "    <tr>\n",
       "      <th>11</th>\n",
       "      <td>Hello, I have applied to a Master's degree pro...</td>\n",
       "      <td>It appears that you are unable to add your pre...</td>\n",
       "      <td>Due to the abolition of the 60 ECTS regulation...</td>\n",
       "      <td>0.335119</td>\n",
       "    </tr>\n",
       "    <tr>\n",
       "      <th>12</th>\n",
       "      <td>I just wanted to know if the course 'Trustwort...</td>\n",
       "      <td>Yes, as you found out on Campo, the course \"Tr...</td>\n",
       "      <td>As you found on Campo, the seminar can be coun...</td>\n",
       "      <td>0.727504</td>\n",
       "    </tr>\n",
       "    <tr>\n",
       "      <th>13</th>\n",
       "      <td>I am currently pursuing a Master's degree in D...</td>\n",
       "      <td>The course 'Machine Learning for Engineers 1' ...</td>\n",
       "      <td>This course is not recognized for the MSc Data...</td>\n",
       "      <td>0.641230</td>\n",
       "    </tr>\n",
       "    <tr>\n",
       "      <th>14</th>\n",
       "      <td>What exactly defines the completion of a degre...</td>\n",
       "      <td>Completion of a degree is defined by the succe...</td>\n",
       "      <td>To complete your degree, you need 120 ECTS, in...</td>\n",
       "      <td>0.905968</td>\n",
       "    </tr>\n",
       "    <tr>\n",
       "      <th>15</th>\n",
       "      <td>Sir/Madam, I am a prospective student of your ...</td>\n",
       "      <td>Dear Prospective Student,\\n\\nThank you for you...</td>\n",
       "      <td>1) The duration of one semester is 6 months. 2...</td>\n",
       "      <td>0.503511</td>\n",
       "    </tr>\n",
       "    <tr>\n",
       "      <th>16</th>\n",
       "      <td>I'm a final-year Electrical Engineering studen...</td>\n",
       "      <td>To determine your eligibility for the Master's...</td>\n",
       "      <td>The admissions committee evaluates your profil...</td>\n",
       "      <td>0.577673</td>\n",
       "    </tr>\n",
       "    <tr>\n",
       "      <th>17</th>\n",
       "      <td>I have failed two courses: 'Mathematical Found...</td>\n",
       "      <td>The automatic re-registration for second attem...</td>\n",
       "      <td>The automatic re-registration for second attem...</td>\n",
       "      <td>0.448761</td>\n",
       "    </tr>\n",
       "    <tr>\n",
       "      <th>18</th>\n",
       "      <td>I am a Master's in Data Science student keen t...</td>\n",
       "      <td>To enroll in the Computer Vision Seminar, you ...</td>\n",
       "      <td>I recommend sending a course description for t...</td>\n",
       "      <td>0.664606</td>\n",
       "    </tr>\n",
       "    <tr>\n",
       "      <th>19</th>\n",
       "      <td>I am from Data Science, and I am writing to se...</td>\n",
       "      <td>Based on the provided context, you can fulfill...</td>\n",
       "      <td>You can complete a 5 ECTS module instead of a ...</td>\n",
       "      <td>0.638705</td>\n",
       "    </tr>\n",
       "  </tbody>\n",
       "</table>\n",
       "</div>"
      ],
      "text/plain": [
       "                                           user_input  \\\n",
       "0   Will the language of instruction of my Bachelo...   \n",
       "1   Is it possible to defer my admission to a futu...   \n",
       "2   What are the consequences of failing an examin...   \n",
       "3    Who is eligible to supervise my Master’s thesis?   \n",
       "4   How many ECTS credits are required before I ca...   \n",
       "5   What are the admission requirements of MSc Dat...   \n",
       "6   What is the teaching language of MSc Data Scie...   \n",
       "7   What is the teaching language of BSc Data Scie...   \n",
       "8      What are the next steps if I get an admission?   \n",
       "9            Is German required for MSc Data Science?   \n",
       "10  As your application period will start on 15 Fe...   \n",
       "11  Hello, I have applied to a Master's degree pro...   \n",
       "12  I just wanted to know if the course 'Trustwort...   \n",
       "13  I am currently pursuing a Master's degree in D...   \n",
       "14  What exactly defines the completion of a degre...   \n",
       "15  Sir/Madam, I am a prospective student of your ...   \n",
       "16  I'm a final-year Electrical Engineering studen...   \n",
       "17  I have failed two courses: 'Mathematical Found...   \n",
       "18  I am a Master's in Data Science student keen t...   \n",
       "19  I am from Data Science, and I am writing to se...   \n",
       "\n",
       "                                             response  \\\n",
       "0   Yes, if your Bachelor’s degree was taught in E...   \n",
       "1   Yes, it is possible to defer your admission to...   \n",
       "2   The consequences of failing an examination thr...   \n",
       "3   To be eligible to supervise your Master’s thes...   \n",
       "4   It is highly recommended that you complete 75 ...   \n",
       "5   The admission requirements for the MSc Data Sc...   \n",
       "6   The teaching language of the MSc Data Science ...   \n",
       "7   The teaching language of the B.Sc. Data Scienc...   \n",
       "8   If you receive an admission to the Master's pr...   \n",
       "9   German language skills are recommended at a B1...   \n",
       "10  You can reapply using your existing Campo acco...   \n",
       "11  It appears that you are unable to add your pre...   \n",
       "12  Yes, as you found out on Campo, the course \"Tr...   \n",
       "13  The course 'Machine Learning for Engineers 1' ...   \n",
       "14  Completion of a degree is defined by the succe...   \n",
       "15  Dear Prospective Student,\\n\\nThank you for you...   \n",
       "16  To determine your eligibility for the Master's...   \n",
       "17  The automatic re-registration for second attem...   \n",
       "18  To enroll in the Computer Vision Seminar, you ...   \n",
       "19  Based on the provided context, you can fulfill...   \n",
       "\n",
       "                                            reference  answer_correctness  \n",
       "0   Yes, if your Bachelor’s degree was taught in E...            0.748074  \n",
       "1   Yes, it is possible to defer your admission. J...            0.728526  \n",
       "2   After three unsuccessful attempts for an exami...            0.981538  \n",
       "3   To start your Master’s thesis, you need an off...            0.555757  \n",
       "4   It is highly recommended that you complete 75 ...            0.737341  \n",
       "5   A completed B.Sc. degree in Mathematics, Indus...            0.729367  \n",
       "6                              Completely in English.            0.695913  \n",
       "7                               Completely in German.            0.968414  \n",
       "8   After receiving your admission letter, you mus...            0.383668  \n",
       "9   No, but solid German knowledge (B1) is recomme...            0.821094  \n",
       "10  You can reapply using your existing Campo acco...            1.000000  \n",
       "11  Due to the abolition of the 60 ECTS regulation...            0.335119  \n",
       "12  As you found on Campo, the seminar can be coun...            0.727504  \n",
       "13  This course is not recognized for the MSc Data...            0.641230  \n",
       "14  To complete your degree, you need 120 ECTS, in...            0.905968  \n",
       "15  1) The duration of one semester is 6 months. 2...            0.503511  \n",
       "16  The admissions committee evaluates your profil...            0.577673  \n",
       "17  The automatic re-registration for second attem...            0.448761  \n",
       "18  I recommend sending a course description for t...            0.664606  \n",
       "19  You can complete a 5 ECTS module instead of a ...            0.638705  "
      ]
     },
     "execution_count": 14,
     "metadata": {},
     "output_type": "execute_result"
    }
   ],
   "source": [
    "data_samples = {\n",
    "    \n",
    "    'question': questions,\n",
    "    \n",
    "    \"answer\": answers,\n",
    "    \n",
    "    'ground_truth': Ground_truth\n",
    "}\n",
    "\n",
    "dataset = Dataset.from_dict(data_samples)\n",
    "score = evaluate(dataset,metrics=[answer_correctness])\n",
    "score.to_pandas()"
   ]
  },
  {
   "cell_type": "code",
   "execution_count": 15,
   "metadata": {},
   "outputs": [
    {
     "name": "stdout",
     "output_type": "stream",
     "text": [
      "0.6896384246654809\n"
     ]
    }
   ],
   "source": [
    "print(sum(score.to_pandas()[\"answer_correctness\"]) / len(score.to_pandas()[\"answer_correctness\"]))"
   ]
  },
  {
   "cell_type": "code",
   "execution_count": null,
   "metadata": {},
   "outputs": [],
   "source": []
  },
  {
   "cell_type": "code",
   "execution_count": null,
   "metadata": {},
   "outputs": [],
   "source": []
  },
  {
   "cell_type": "code",
   "execution_count": null,
   "metadata": {},
   "outputs": [],
   "source": []
  },
  {
   "cell_type": "code",
   "execution_count": null,
   "metadata": {},
   "outputs": [],
   "source": []
  },
  {
   "cell_type": "code",
   "execution_count": null,
   "metadata": {},
   "outputs": [],
   "source": []
  }
 ],
 "metadata": {
  "kernelspec": {
   "display_name": "base",
   "language": "python",
   "name": "python3"
  },
  "language_info": {
   "codemirror_mode": {
    "name": "ipython",
    "version": 3
   },
   "file_extension": ".py",
   "mimetype": "text/x-python",
   "name": "python",
   "nbconvert_exporter": "python",
   "pygments_lexer": "ipython3",
   "version": "3.11.7"
  }
 },
 "nbformat": 4,
 "nbformat_minor": 2
}
