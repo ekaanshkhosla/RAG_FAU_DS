{
 "cells": [
  {
   "cell_type": "code",
   "execution_count": 1,
   "metadata": {},
   "outputs": [
    {
     "data": {
      "text/plain": [
       "True"
      ]
     },
     "execution_count": 1,
     "metadata": {},
     "output_type": "execute_result"
    }
   ],
   "source": [
    "import os\n",
    "from dotenv import load_dotenv\n",
    "\n",
    "# Load environment variables from the .env file\n",
    "load_dotenv(dotenv_path=\"../../keys/.env\")"
   ]
  },
  {
   "cell_type": "code",
   "execution_count": 2,
   "metadata": {},
   "outputs": [],
   "source": [
    "langchain_api_key = os.getenv(\"LANGCHAIN_API_KEY\")"
   ]
  },
  {
   "cell_type": "code",
   "execution_count": 3,
   "metadata": {},
   "outputs": [],
   "source": [
    "import os\n",
    "\n",
    "os.environ[\"LANGCHAIN_TRACING_V2\"] = \"true\"\n",
    "os.environ[\"LANGCHAIN_ENDPOINT\"] = \"https://api.smith.langchain.com\"\n",
    "langchain_api_key = os.getenv(\"LANGCHAIN_API_KEY\")"
   ]
  },
  {
   "cell_type": "code",
   "execution_count": 4,
   "metadata": {},
   "outputs": [
    {
     "name": "stderr",
     "output_type": "stream",
     "text": [
      "USER_AGENT environment variable not set, consider setting it to identify your requests.\n"
     ]
    }
   ],
   "source": [
    "from langchain_community.document_loaders import PyPDFLoader, WebBaseLoader\n",
    "from langchain.text_splitter import RecursiveCharacterTextSplitter\n",
    "\n",
    "# List of PDF file paths\n",
    "pdf_dir = \"../../data/pdfs\"\n",
    "pdf_files = [os.path.join(pdf_dir, file) for file in os.listdir(pdf_dir) if file.endswith(\".pdf\")]\n",
    "\n",
    "# URLs to load\n",
    "urls = [\n",
    "    \"https://www.math-datascience.nat.fau.de/im-studium/masterstudiengaenge/master-data-science/\",\n",
    "    \"https://www.fau.eu/studiengang/data-science-bsc/\",\n",
    "    \"https://www.fau.eu/studiengang/data-science-msc/\",\n",
    "]\n",
    "\n",
    "# Initialize an empty list to hold all document splits\n",
    "all_doc_splits = []\n",
    "\n",
    "# Define the text splitter with a chunk size of 1000 characters and overlap of 200\n",
    "text_splitter = RecursiveCharacterTextSplitter.from_tiktoken_encoder(\n",
    "    chunk_size=1000, \n",
    "    chunk_overlap=200)\n",
    "\n",
    "### Process PDF files ###\n",
    "for pdf_file in pdf_files:\n",
    "    # Load the PDF\n",
    "    pdf_loader = PyPDFLoader(pdf_file)\n",
    "    documents = pdf_loader.load()\n",
    "    \n",
    "    # Split the documents into chunks\n",
    "    doc_splits = text_splitter.split_documents(documents)\n",
    "    \n",
    "    # Add the splits to the overall list\n",
    "    all_doc_splits.extend(doc_splits)\n",
    "\n",
    "### Process Web URLs ###\n",
    "docs = [WebBaseLoader(url).load() for url in urls]\n",
    "docs_list = [item for sublist in docs for item in sublist]\n",
    "\n",
    "# Split the web documents into chunks\n",
    "web_doc_splits = text_splitter.split_documents(docs_list)\n",
    "\n",
    "# Add the web document splits to the overall list\n",
    "all_doc_splits.extend(web_doc_splits)\n",
    "\n",
    "# Now, all_doc_splits contains the splits from both the PDF files and the web documents."
   ]
  },
  {
   "cell_type": "code",
   "execution_count": 5,
   "metadata": {},
   "outputs": [
    {
     "name": "stdout",
     "output_type": "stream",
     "text": [
      "175\n"
     ]
    }
   ],
   "source": [
    "print(len(all_doc_splits))"
   ]
  },
  {
   "cell_type": "code",
   "execution_count": 6,
   "metadata": {},
   "outputs": [],
   "source": [
    "# Index\n",
    "from langchain_openai import OpenAIEmbeddings\n",
    "from langchain_community.vectorstores import Chroma\n",
    "from langchain_community.vectorstores import SKLearnVectorStore\n",
    "from langchain_community.vectorstores import FAISS\n",
    "\n",
    "\n",
    "vectorstore = FAISS.from_documents(documents=all_doc_splits, \n",
    "                                    embedding=OpenAIEmbeddings())\n",
    "\n",
    "retriever = vectorstore.as_retriever()"
   ]
  },
  {
   "cell_type": "code",
   "execution_count": 7,
   "metadata": {},
   "outputs": [],
   "source": [
    "from langchain.prompts import ChatPromptTemplate\n",
    "from langchain_openai import ChatOpenAI\n",
    "from langchain_core.output_parsers import StrOutputParser\n",
    "\n",
    "# Direct Query: Correct Spelling and Grammar Only\n",
    "template = \"\"\"You are an AI language model assistant. Your task is to correct any spelling or grammatical mistakes in the given user question while keeping the wording unchanged. \n",
    "Provide only the corrected question and nothing else.\n",
    "Original question: {question}\"\"\"\n",
    "\n",
    "prompt_perspectives = ChatPromptTemplate.from_template(template)\n",
    "\n",
    "# Ensure ChatGroq is properly set up\n",
    "generate_queries = (\n",
    "    prompt_perspectives \n",
    "    | ChatOpenAI(model_name=\"gpt-4o-mini\") \n",
    "    | StrOutputParser()\n",
    ")\n"
   ]
  },
  {
   "cell_type": "code",
   "execution_count": 8,
   "metadata": {},
   "outputs": [],
   "source": [
    "questions = [\n",
    "    \"Will the language of instruction of my Bachelor’s degree suffice to demonstrate my proficiency in English for admission in MSc Data Science at FAU Erlangen?\",\n",
    "    \"Is it possible to defer my admission to a future semester?\",\n",
    "    \"What are the consequences of failing an examination three times?\",\n",
    "    \"Who is eligible to supervise my Master’s thesis?\",\n",
    "    \"How many ECTS credits are required before I can start writing my Master’s thesis?\",\n",
    "    \"What are the admission requirements of MSc Data Science?\",\n",
    "    \"What is the teaching language of MSc Data Science?\",\n",
    "    \"What is the teaching language of BSc Data Science?\",\n",
    "    \"What are the next steps if I get an admission?\",\n",
    "    \"Is German required for MSc Data Science?\",\n",
    "    \"As your application period will start on 15 February 2024 for the winter semester 2024/25, I have received an offer letter for the summer semester 2024. Do I have to reapply to defer my admission? Can I reapply with my existing account on the Campo portal, which I used for the summer semester, or do I have to open a new account to reapply for the winter 2024/25?\",\n",
    "    \"Hello, I have applied to a Master's degree program in Data Science (both part-time and full-time) at FAU. Unfortunately, I have not added my previous offer letter (offer letter is attached below). However, the application portal is not letting me add this offer letter now as it says I cannot change it because my other applications are in process. How do I add this now? I have tried to contact the Masterbüro and admission office, but I have not received any response yet!\",\n",
    "    \"I just wanted to know if the course 'Trustworthy Artificial Intelligence' can be taken as a Master Seminar in my course. On Campo, I find it mentioned as both a Master Seminar and an application subject (screenshot attached). Just to clarify before taking the subject.\",\n",
    "    \"I am currently pursuing a Master's degree in Data Science. I have registered for the course 'Machine Learning for Engineers 1' for the upcoming examination. Is it eligible to be counted towards the requirements of my degree program? If it is, could you please inform me under which category it falls? I would greatly appreciate your guidance on this matter.\",\n",
    "    \"What exactly defines the completion of a degree? Is it the transcript showing 120 ECTS? Let’s say I complete my thesis in September, but the transcript gets updated exactly on 15th October (for example). According to the university, will I be de-enrolled at the end of the Winter semester 2025? But if I apply for de-enrollment myself, can I be de-enrolled at any time during the winter semester? Hope I understood the information correctly.\",\n",
    "    \"Sir/Madam, I am a prospective student of your esteemed university from India. I would like to join the Master's program in Data Science (English-taught) in 2024. I have some doubts regarding the full-time study program: 1) What is the duration of a single semester? 2) How many hours of class should I take in a week? 3) If I opt for the full-time study program, would I be able to do part-time jobs? Eagerly waiting for your reply.\",\n",
    "    \"I'm a final-year Electrical Engineering student at NUST, Pakistan, interested in the Master's in Data Science program. Having taken relevant coursework in statistics and computer science, along with online courses, I'm curious about my eligibility. My transcript is attached for review.\",\n",
    "    \"I have failed two courses: 'Mathematical Foundations of Artificial Intelligence' and 'Neural Networks and Data Analytics - Artificial Intelligence I'. Both of them have not been registered for the exam automatically. Last semester, my failed courses were registered automatically, but this time, it doesn't look like that. Please clarify!\",\n",
    "    \"I am a Master's in Data Science student keen to enroll in a Computer Vision Seminar. This seminar is closely related to my academic and career goals. I also got enrolled in this course. However, I couldn't find it in the current course catalog for our program. I kindly request the addition of the Computer Vision Seminar to our course offerings. I believe it will greatly benefit students interested in this field. Your consideration is greatly appreciated.\",\n",
    "    \"I am from Data Science, and I am writing to seek your guidance regarding the completion of my major module requirements. I have completed all my credits except for 2.5 ECTS in the major module. In light of this, I would like to ask whether I can fulfill this requirement by taking only a 2.5 ECTS subject, or if I can also consider enrolling in a 5 ECTS subject to meet this requirement. I would appreciate your advice on the best course of action to ensure I complete my credits in a timely and effective manner.\"\n",
    "]"
   ]
  },
  {
   "cell_type": "code",
   "execution_count": 9,
   "metadata": {},
   "outputs": [
    {
     "name": "stderr",
     "output_type": "stream",
     "text": [
      "C:\\Users\\ekaan\\AppData\\Local\\Temp\\ipykernel_9300\\1330381203.py:10: LangChainDeprecationWarning: The method `BaseRetriever.get_relevant_documents` was deprecated in langchain-core 0.1.46 and will be removed in 1.0. Use :meth:`~invoke` instead.\n",
      "  docs = retriever.get_relevant_documents(rephrased_question)\n"
     ]
    }
   ],
   "source": [
    "answers = []\n",
    "\n",
    "retriever = vectorstore.as_retriever()\n",
    "\n",
    "for question in questions:\n",
    "    # Step 1: Rephrase the question\n",
    "    rephrased_question = generate_queries.invoke(question)\n",
    "\n",
    "    # Step 2: Retrieve relevant documents using the rephrased question\n",
    "    docs = retriever.get_relevant_documents(rephrased_question)\n",
    "\n",
    "    from operator import itemgetter\n",
    "    from langchain_openai import ChatOpenAI\n",
    "    from langchain_core.runnables import RunnablePassthrough\n",
    "\n",
    "    # Step 3: Answer using retrieved documents\n",
    "    template = \"\"\"Answer the following question based on this context:\n",
    "\n",
    "    {context}\n",
    "\n",
    "    Question: {question}\n",
    "    \"\"\"\n",
    "\n",
    "    prompt = ChatPromptTemplate.from_template(template)\n",
    "\n",
    "    final_rag_chain = (\n",
    "        {\"context\": itemgetter(\"context\"), \n",
    "         \"question\": itemgetter(\"question\")} \n",
    "        | prompt\n",
    "        | ChatOpenAI(model_name=\"gpt-4o-mini\") \n",
    "        | StrOutputParser()\n",
    "    )\n",
    "\n",
    "    # Invoke the final RAG pipeline\n",
    "    ans = final_rag_chain.invoke({\"context\": docs, \"question\": rephrased_question})\n",
    "    answers.append(ans)\n"
   ]
  },
  {
   "cell_type": "code",
   "execution_count": 10,
   "metadata": {},
   "outputs": [
    {
     "data": {
      "text/plain": [
       "['Yes, if your Bachelor’s degree was taught in English, you can apply with a certificate from your university stating that the language of instruction for your degree was in English, which will suffice to demonstrate your proficiency in English for admission to the MSc Data Science at FAU Erlangen.',\n",
       " 'Yes, you can defer your admission to a future semester. You will need to reapply for the semester you wish to defer to using your existing account in the Campo portal.',\n",
       " 'If you fail an examination three times, the module will be counted as not being passed, and this status cannot be changed. You will not be able to pass this module in the future. If the module is an elective mandatory module (core elective module), you can simply choose another module and continue your studies. However, if the module is a core module of your study course (such as Mathematics of Learning, Selected Topics of Mathematics of Learning, or Deep Learning), you will not be able to continue your studies in that program at FAU.',\n",
       " \"The supervisor of your Master's thesis must be a professor from one of the four mentioned departments at the university. If you wish to have a supervisor from an alternative department, you need to seek permission from the admission committee in advance. Additionally, it is mandatory to have a supervisor from the university for a company-based thesis, and the second examiner must belong to one of the specified departments.\",\n",
       " 'It is highly recommended that you complete 75 ECTS of your study curriculum before starting to write your Master’s thesis.',\n",
       " \"The admission requirements for the MSc Data Science program are as follows:\\n\\n1. **Completed Bachelor's Degree**: Applicants must have a Bachelor's degree in Mathematics, Industrial Mathematics, Mathematical Economy, Computer Science, Data Science, or Physics from FAU or an equivalent domestic or international degree that is not significantly different in terms of the competence profile taught in the respective degree.\\n\\n2. **Grade Point Average (GPA)**: A minimum GPA of 2.5 (according to the German grading system) is required. Candidates with a GPA between 2.6 and 2.8 may be invited for a short online interview to evaluate their knowledge in calculus, linear algebra, algorithms, and data structures.\\n\\n3. **English Proficiency**: Applicants must demonstrate English proficiency at level B2 CEFR (vantage or upper intermediate), which should not be older than 2 years, or have completed six years of English classes at a German secondary school (Gymnasium). Those who have completed their university entrance qualifications or their first degree in English are exempt from this requirement.\\n\\n4. **Application Process**: The application must be performed online, with specific registration periods for winter and summer intakes.\\n\\nThese requirements ensure that applicants have the necessary academic background and skills for success in the program.\",\n",
       " 'The teaching language of the MSc Data Science program is primarily English. However, some courses may be conducted in German, particularly in certain specializations. Students can request professors to switch to English if needed.',\n",
       " 'The teaching and examination language for the Bachelor’s degree program in Data Science is primarily in German for the specializations in Mathematical Theory/Fundamentals of Data Science and Mathematical Statistical Data Analysis. However, the teaching and examination language in the specializations of Data-based Optimization, Databases and Knowledge Representation, Machine Learning/Artificial Intelligence, and Simulation and Numerics is in English. Individual modules can also be offered in the other language as needed.',\n",
       " 'If you receive an admission offer for the MSc Data Science program, the next steps generally involve the following:\\n\\n1. **Acceptance of Offer**: You will need to formally accept the admission offer as per the instructions provided in your admission letter.\\n\\n2. **Visa Application**: If you are an international student, you will need to apply for a student visa to study in Germany. This may require documents such as your admission letter, proof of financial resources, and possibly an APS certificate if you are from India.\\n\\n3. **Enrollment**: You will need to complete the enrollment process at the university. This typically involves submitting any required documents, paying any necessary fees, and possibly attending an orientation session.\\n\\n4. **Accommodation**: Arrange for accommodation in Germany, either through university housing or private housing options.\\n\\n5. **Registration for Courses**: Once enrolled, you will need to register for your courses and familiarize yourself with the curriculum and academic requirements.\\n\\n6. **Prepare for Classes**: Get ready for your studies by reviewing the course materials and any prerequisite knowledge that may be necessary.\\n\\nMake sure to follow any specific instructions provided by the university in your admission letter, as procedures and requirements can vary.',\n",
       " 'German language skills are recommended but not required for admission to the MSc in Data Science program. While the program is taught entirely in English, it is advised that international applicants have solid knowledge of German (B1 level) for everyday life and potential internships or working student jobs, although a certificate is not necessary for the application.',\n",
       " 'You can reapply using your existing Campo account. There is no need to open a new account for the winter semester 2024/25.',\n",
       " 'It seems that your application will be completely re-examined and re-evaluated due to the recent changes in the examination regulations of the Data Science Program at FAU. Therefore, whether or not you upload your previous offer letter will not make a difference in the review process. Since you are unable to add the letter now and have not received a response from the Masterbüro or admissions office, it may be best to wait for their reply, as they can provide specific guidance on your situation.',\n",
       " 'Yes, the course \"Trustworthy Artificial Intelligence\" can be counted as a Master seminar.',\n",
       " \"Based on the provided context, the course 'Machine Learning for Engineers 1' does not have a specific categorization mentioned in the excerpts. However, it would be advisable for you to reach out to the appropriate academic department or the examinations committee to confirm whether this course can be counted toward your degree requirements and to clarify under which category it falls (Major, Minor, or Application).\",\n",
       " 'Completion of a degree is defined by having finished the required number of ECTS credits, which in this case is 120 ECTS. This includes all core, major, minor, application modules, seminar, and thesis components. If you complete your thesis and achieve the 120 ECTS by September 2024, and your supervisor submits your thesis grade to the examination office before the end of September 2024, you will be de-registered by the end of the summer semester 2024. However, if you complete your 120 ECTS in October 2024, you will be de-registered by the end of the Winter Semester 2024-25.\\n\\nRegarding self-de-registration, you can apply for de-registration at any time throughout the year, which means you can choose to de-register yourself earlier during the winter semester if you wish. Your understanding of the process is correct.',\n",
       " '1) The duration of one semester is 6 months. \\n2) There is generally no restriction on the number of hours of study per week, and you can take subjects according to your comfort. It is recommended to take 30 ECTS per semester (1 ECTS = 1 hour of study).\\n3) Yes, you can work part-time. A student can work up to 20 hours a week with a part-time student job.',\n",
       " \"The admissions committee evaluates your profile only after you apply to the Master's in Data Science program via the campo portal. Therefore, you will need to submit your application for them to review your eligibility based on your coursework and transcript.\",\n",
       " 'The automatic re-registration for second attempts in examinations is done manually by the examination office. If your failed courses have not been registered automatically this time, it may be due to the manual process being employed. You may want to reach out to the examination office for clarification and assistance regarding your registration for the exams.',\n",
       " 'To address your request, I recommend that you send a course description for the Computer Vision Seminar, including all relevant details such as the module number and the exact name in the course management system (Campo), to the examination committee. This will allow them to consider including the seminar in one of the module groups for the M.Sc. Data Science program. Your initiative in advocating for this seminar could be beneficial for students interested in the field.',\n",
       " \"Based on the provided context, you can fulfill your remaining 2.5 ECTS requirement by either taking a 2.5 ECTS subject or enrolling in a 5 ECTS subject. If you choose to take a 5 ECTS subject, the additional credits will typically count towards your overall credit requirements. It is advisable to check with your academic advisor or the examination office to confirm the specific policies regarding credit allocation and ensure that your chosen approach aligns with the program's requirements.\"]"
      ]
     },
     "execution_count": 10,
     "metadata": {},
     "output_type": "execute_result"
    }
   ],
   "source": [
    "answers"
   ]
  },
  {
   "cell_type": "code",
   "execution_count": 11,
   "metadata": {},
   "outputs": [],
   "source": [
    "Ground_truth = [\n",
    "    \"Yes, if your Bachelor’s degree was taught in English then you can apply with a certificate from your university stating that the language of instruction for your degree has been in English.\",\n",
    "    \"Yes, it is possible to defer your admission. Just re-apply for the next semester and upload the current admission letter you received. You will be granted admission provided that there are no significant changes to the regulations and selection criteria.\",\n",
    "    \"After three unsuccessful attempts for an examination, the module will be counted as not being passed. This state cannot be changed, and you cannot pass this module in the future. If the module is an elective mandatory module (core elective module in Campo), you can choose another module and continue your studies. If the module is a core module of your study course (Mathematics of Learning, Selected Topics of Mathematics of Learning, or Deep Learning), you cannot continue your studies in this program at FAU.\",\n",
    "    \"To start your Master’s thesis, you need an official supervisor from FAU. The person must be a professor or at least have completed a habilitation ('Dr. habil.' or 'PD') and must be a member of one of the following departments: Data Science, Mathematics, Computer Science, or Artificial Intelligence in Biomedical Engineering (AIBE). Professors who are secondary members in these departments can also supervise. Your official supervisor is also the first examiner of your thesis and should propose a second examiner from any department at FAU. Additional guidance from PhD students is possible, but they cannot be official supervisors.\",\n",
    "    \"It is highly recommended that you complete 75 ECTS of your study curriculum before choosing a Master’s seminar topic. You should complete all core modules and major modules first. Your thesis topic should ideally align with your specialization and Master’s seminar, following §54 of the examination regulations ('Mentoring') and your individual study agreement.\",\n",
    "    \"A completed B.Sc. degree in Mathematics, Industrial Mathematics, Mathematical Economy, Computer Science, Data Science, or Physics from FAU or an equivalent domestic or international degree that aligns with the competence profile of the program. A GPA of 2.5 or better (German grading system) is required. Applicants with a GPA between 2.6 and 2.8 will be invited for an online interview assessing their knowledge of calculus, linear algebra, algorithms, and data structures. English proficiency at B2 CEFR or proof of English-taught education is required.\",\n",
    "    \"Completely in English.\",\n",
    "    \"Completely in German.\",\n",
    "    \"After receiving your admission letter, you must enroll for the next semester by sending certified documents via postal service to the Student Records Office. The enrollment fee should be transferred in advance, especially if transferring from abroad (recommended two weeks before). After enrollment, you gain access to online teaching resources and platforms like StudOn and Campo.\",\n",
    "    \"No, but solid German knowledge (B1) is recommended for daily life, internships, and working student jobs. However, a certificate is not required for the application.\",\n",
    "    \"You can reapply using your existing Campo account.\",\n",
    "    \"Due to the abolition of the 60 ECTS regulation from the winter semester 2022/23, the examination regulations of the Data Science program changed. The letter of admission from winter semester 2021/22 will no longer be recognized. Your application will be completely re-examined and re-evaluated, so uploading the previous offer letter makes no difference.\",\n",
    "    \"As you found on Campo, the seminar can be counted as a Master Seminar.\",\n",
    "    \"This course is not recognized for the MSc Data Science study program. Therefore, even if you attend this course, you will not be able to accredit any ECTS.\",\n",
    "    \"To complete your degree, you need 120 ECTS, including all core, major, minor, application modules, seminar, and thesis. If you complete 120 ECTS by September 2024 and your supervisor submits your thesis grade before the end of September, you will be deregistered at the end of the summer semester 2024. If you complete it in October 2024, you will be deregistered at the end of the winter semester 2024/25. You can also choose to de-register earlier if desired.\",\n",
    "    \"1) The duration of one semester is 6 months. 2) There is no restriction on study hours per week. You can take subjects at your comfort, but 30 ECTS per semester is recommended (1 ECTS = 1 hour of study). 3) Yes, you can work part-time. A student can work up to 20 hours per week with a part-time student job.\",\n",
    "    \"The admissions committee evaluates your profile only after you apply via the Campo portal.\",\n",
    "    \"The automatic re-registration for second attempts in examinations is done manually by the examination office.\",\n",
    "    \"I recommend sending a course description for the seminar, including details like the module number and exact name in Campo, to the examination committee and asking if the seminar can be included in one of the module groups of the MSc Data Science program.\",\n",
    "    \"You can complete a 5 ECTS module instead of a 2.5 ECTS module. Just ensure that you meet at least the 2.5 ECTS requirement.\"\n",
    "]"
   ]
  },
  {
   "cell_type": "code",
   "execution_count": 12,
   "metadata": {},
   "outputs": [],
   "source": [
    "from datasets import Dataset \n",
    "from ragas.metrics import faithfulness, answer_correctness\n",
    "from ragas import evaluate"
   ]
  },
  {
   "cell_type": "code",
   "execution_count": 13,
   "metadata": {},
   "outputs": [
    {
     "data": {
      "application/vnd.jupyter.widget-view+json": {
       "model_id": "276b1fc6d33941dfb8e152ea32c4114d",
       "version_major": 2,
       "version_minor": 0
      },
      "text/plain": [
       "Evaluating:   0%|          | 0/20 [00:00<?, ?it/s]"
      ]
     },
     "metadata": {},
     "output_type": "display_data"
    },
    {
     "data": {
      "text/html": [
       "<div>\n",
       "<style scoped>\n",
       "    .dataframe tbody tr th:only-of-type {\n",
       "        vertical-align: middle;\n",
       "    }\n",
       "\n",
       "    .dataframe tbody tr th {\n",
       "        vertical-align: top;\n",
       "    }\n",
       "\n",
       "    .dataframe thead th {\n",
       "        text-align: right;\n",
       "    }\n",
       "</style>\n",
       "<table border=\"1\" class=\"dataframe\">\n",
       "  <thead>\n",
       "    <tr style=\"text-align: right;\">\n",
       "      <th></th>\n",
       "      <th>user_input</th>\n",
       "      <th>response</th>\n",
       "      <th>reference</th>\n",
       "      <th>answer_correctness</th>\n",
       "    </tr>\n",
       "  </thead>\n",
       "  <tbody>\n",
       "    <tr>\n",
       "      <th>0</th>\n",
       "      <td>Will the language of instruction of my Bachelo...</td>\n",
       "      <td>Yes, if your Bachelor’s degree was taught in E...</td>\n",
       "      <td>Yes, if your Bachelor’s degree was taught in E...</td>\n",
       "      <td>0.733221</td>\n",
       "    </tr>\n",
       "    <tr>\n",
       "      <th>1</th>\n",
       "      <td>Is it possible to defer my admission to a futu...</td>\n",
       "      <td>Yes, you can defer your admission to a future ...</td>\n",
       "      <td>Yes, it is possible to defer your admission. J...</td>\n",
       "      <td>0.786064</td>\n",
       "    </tr>\n",
       "    <tr>\n",
       "      <th>2</th>\n",
       "      <td>What are the consequences of failing an examin...</td>\n",
       "      <td>If you fail an examination three times, the mo...</td>\n",
       "      <td>After three unsuccessful attempts for an exami...</td>\n",
       "      <td>0.995403</td>\n",
       "    </tr>\n",
       "    <tr>\n",
       "      <th>3</th>\n",
       "      <td>Who is eligible to supervise my Master’s thesis?</td>\n",
       "      <td>The supervisor of your Master's thesis must be...</td>\n",
       "      <td>To start your Master’s thesis, you need an off...</td>\n",
       "      <td>0.460053</td>\n",
       "    </tr>\n",
       "    <tr>\n",
       "      <th>4</th>\n",
       "      <td>How many ECTS credits are required before I ca...</td>\n",
       "      <td>It is highly recommended that you complete 75 ...</td>\n",
       "      <td>It is highly recommended that you complete 75 ...</td>\n",
       "      <td>0.479844</td>\n",
       "    </tr>\n",
       "    <tr>\n",
       "      <th>5</th>\n",
       "      <td>What are the admission requirements of MSc Dat...</td>\n",
       "      <td>The admission requirements for the MSc Data Sc...</td>\n",
       "      <td>A completed B.Sc. degree in Mathematics, Indus...</td>\n",
       "      <td>0.986464</td>\n",
       "    </tr>\n",
       "    <tr>\n",
       "      <th>6</th>\n",
       "      <td>What is the teaching language of MSc Data Scie...</td>\n",
       "      <td>The teaching language of the MSc Data Science ...</td>\n",
       "      <td>Completely in English.</td>\n",
       "      <td>0.497089</td>\n",
       "    </tr>\n",
       "    <tr>\n",
       "      <th>7</th>\n",
       "      <td>What is the teaching language of BSc Data Scie...</td>\n",
       "      <td>The teaching and examination language for the ...</td>\n",
       "      <td>Completely in German.</td>\n",
       "      <td>0.197636</td>\n",
       "    </tr>\n",
       "    <tr>\n",
       "      <th>8</th>\n",
       "      <td>What are the next steps if I get an admission?</td>\n",
       "      <td>If you receive an admission offer for the MSc ...</td>\n",
       "      <td>After receiving your admission letter, you mus...</td>\n",
       "      <td>0.215799</td>\n",
       "    </tr>\n",
       "    <tr>\n",
       "      <th>9</th>\n",
       "      <td>Is German required for MSc Data Science?</td>\n",
       "      <td>German language skills are recommended but not...</td>\n",
       "      <td>No, but solid German knowledge (B1) is recomme...</td>\n",
       "      <td>0.593008</td>\n",
       "    </tr>\n",
       "    <tr>\n",
       "      <th>10</th>\n",
       "      <td>As your application period will start on 15 Fe...</td>\n",
       "      <td>You can reapply using your existing Campo acco...</td>\n",
       "      <td>You can reapply using your existing Campo acco...</td>\n",
       "      <td>0.734343</td>\n",
       "    </tr>\n",
       "    <tr>\n",
       "      <th>11</th>\n",
       "      <td>Hello, I have applied to a Master's degree pro...</td>\n",
       "      <td>It seems that your application will be complet...</td>\n",
       "      <td>Due to the abolition of the 60 ECTS regulation...</td>\n",
       "      <td>0.724897</td>\n",
       "    </tr>\n",
       "    <tr>\n",
       "      <th>12</th>\n",
       "      <td>I just wanted to know if the course 'Trustwort...</td>\n",
       "      <td>Yes, the course \"Trustworthy Artificial Intell...</td>\n",
       "      <td>As you found on Campo, the seminar can be coun...</td>\n",
       "      <td>0.970233</td>\n",
       "    </tr>\n",
       "    <tr>\n",
       "      <th>13</th>\n",
       "      <td>I am currently pursuing a Master's degree in D...</td>\n",
       "      <td>Based on the provided context, the course 'Mac...</td>\n",
       "      <td>This course is not recognized for the MSc Data...</td>\n",
       "      <td>0.202854</td>\n",
       "    </tr>\n",
       "    <tr>\n",
       "      <th>14</th>\n",
       "      <td>What exactly defines the completion of a degre...</td>\n",
       "      <td>Completion of a degree is defined by having fi...</td>\n",
       "      <td>To complete your degree, you need 120 ECTS, in...</td>\n",
       "      <td>0.995525</td>\n",
       "    </tr>\n",
       "    <tr>\n",
       "      <th>15</th>\n",
       "      <td>Sir/Madam, I am a prospective student of your ...</td>\n",
       "      <td>1) The duration of one semester is 6 months. \\...</td>\n",
       "      <td>1) The duration of one semester is 6 months. 2...</td>\n",
       "      <td>0.998843</td>\n",
       "    </tr>\n",
       "    <tr>\n",
       "      <th>16</th>\n",
       "      <td>I'm a final-year Electrical Engineering studen...</td>\n",
       "      <td>The admissions committee evaluates your profil...</td>\n",
       "      <td>The admissions committee evaluates your profil...</td>\n",
       "      <td>0.600234</td>\n",
       "    </tr>\n",
       "    <tr>\n",
       "      <th>17</th>\n",
       "      <td>I have failed two courses: 'Mathematical Found...</td>\n",
       "      <td>The automatic re-registration for second attem...</td>\n",
       "      <td>The automatic re-registration for second attem...</td>\n",
       "      <td>0.536001</td>\n",
       "    </tr>\n",
       "    <tr>\n",
       "      <th>18</th>\n",
       "      <td>I am a Master's in Data Science student keen t...</td>\n",
       "      <td>To address your request, I recommend that you ...</td>\n",
       "      <td>I recommend sending a course description for t...</td>\n",
       "      <td>0.665126</td>\n",
       "    </tr>\n",
       "    <tr>\n",
       "      <th>19</th>\n",
       "      <td>I am from Data Science, and I am writing to se...</td>\n",
       "      <td>Based on the provided context, you can fulfill...</td>\n",
       "      <td>You can complete a 5 ECTS module instead of a ...</td>\n",
       "      <td>0.479040</td>\n",
       "    </tr>\n",
       "  </tbody>\n",
       "</table>\n",
       "</div>"
      ],
      "text/plain": [
       "                                           user_input  \\\n",
       "0   Will the language of instruction of my Bachelo...   \n",
       "1   Is it possible to defer my admission to a futu...   \n",
       "2   What are the consequences of failing an examin...   \n",
       "3    Who is eligible to supervise my Master’s thesis?   \n",
       "4   How many ECTS credits are required before I ca...   \n",
       "5   What are the admission requirements of MSc Dat...   \n",
       "6   What is the teaching language of MSc Data Scie...   \n",
       "7   What is the teaching language of BSc Data Scie...   \n",
       "8      What are the next steps if I get an admission?   \n",
       "9            Is German required for MSc Data Science?   \n",
       "10  As your application period will start on 15 Fe...   \n",
       "11  Hello, I have applied to a Master's degree pro...   \n",
       "12  I just wanted to know if the course 'Trustwort...   \n",
       "13  I am currently pursuing a Master's degree in D...   \n",
       "14  What exactly defines the completion of a degre...   \n",
       "15  Sir/Madam, I am a prospective student of your ...   \n",
       "16  I'm a final-year Electrical Engineering studen...   \n",
       "17  I have failed two courses: 'Mathematical Found...   \n",
       "18  I am a Master's in Data Science student keen t...   \n",
       "19  I am from Data Science, and I am writing to se...   \n",
       "\n",
       "                                             response  \\\n",
       "0   Yes, if your Bachelor’s degree was taught in E...   \n",
       "1   Yes, you can defer your admission to a future ...   \n",
       "2   If you fail an examination three times, the mo...   \n",
       "3   The supervisor of your Master's thesis must be...   \n",
       "4   It is highly recommended that you complete 75 ...   \n",
       "5   The admission requirements for the MSc Data Sc...   \n",
       "6   The teaching language of the MSc Data Science ...   \n",
       "7   The teaching and examination language for the ...   \n",
       "8   If you receive an admission offer for the MSc ...   \n",
       "9   German language skills are recommended but not...   \n",
       "10  You can reapply using your existing Campo acco...   \n",
       "11  It seems that your application will be complet...   \n",
       "12  Yes, the course \"Trustworthy Artificial Intell...   \n",
       "13  Based on the provided context, the course 'Mac...   \n",
       "14  Completion of a degree is defined by having fi...   \n",
       "15  1) The duration of one semester is 6 months. \\...   \n",
       "16  The admissions committee evaluates your profil...   \n",
       "17  The automatic re-registration for second attem...   \n",
       "18  To address your request, I recommend that you ...   \n",
       "19  Based on the provided context, you can fulfill...   \n",
       "\n",
       "                                            reference  answer_correctness  \n",
       "0   Yes, if your Bachelor’s degree was taught in E...            0.733221  \n",
       "1   Yes, it is possible to defer your admission. J...            0.786064  \n",
       "2   After three unsuccessful attempts for an exami...            0.995403  \n",
       "3   To start your Master’s thesis, you need an off...            0.460053  \n",
       "4   It is highly recommended that you complete 75 ...            0.479844  \n",
       "5   A completed B.Sc. degree in Mathematics, Indus...            0.986464  \n",
       "6                              Completely in English.            0.497089  \n",
       "7                               Completely in German.            0.197636  \n",
       "8   After receiving your admission letter, you mus...            0.215799  \n",
       "9   No, but solid German knowledge (B1) is recomme...            0.593008  \n",
       "10  You can reapply using your existing Campo acco...            0.734343  \n",
       "11  Due to the abolition of the 60 ECTS regulation...            0.724897  \n",
       "12  As you found on Campo, the seminar can be coun...            0.970233  \n",
       "13  This course is not recognized for the MSc Data...            0.202854  \n",
       "14  To complete your degree, you need 120 ECTS, in...            0.995525  \n",
       "15  1) The duration of one semester is 6 months. 2...            0.998843  \n",
       "16  The admissions committee evaluates your profil...            0.600234  \n",
       "17  The automatic re-registration for second attem...            0.536001  \n",
       "18  I recommend sending a course description for t...            0.665126  \n",
       "19  You can complete a 5 ECTS module instead of a ...            0.479040  "
      ]
     },
     "execution_count": 13,
     "metadata": {},
     "output_type": "execute_result"
    }
   ],
   "source": [
    "data_samples = {\n",
    "    \n",
    "    'question': questions,\n",
    "    \n",
    "    \"answer\": answers,\n",
    "    \n",
    "    'ground_truth': Ground_truth\n",
    "}\n",
    "\n",
    "dataset = Dataset.from_dict(data_samples)\n",
    "score = evaluate(dataset,metrics=[answer_correctness])\n",
    "score.to_pandas()"
   ]
  },
  {
   "cell_type": "code",
   "execution_count": 14,
   "metadata": {},
   "outputs": [
    {
     "name": "stdout",
     "output_type": "stream",
     "text": [
      "0.6425838761183783\n"
     ]
    }
   ],
   "source": [
    "print(sum(score.to_pandas()[\"answer_correctness\"]) / len(score.to_pandas()[\"answer_correctness\"]))"
   ]
  },
  {
   "cell_type": "code",
   "execution_count": null,
   "metadata": {},
   "outputs": [],
   "source": []
  },
  {
   "cell_type": "code",
   "execution_count": null,
   "metadata": {},
   "outputs": [],
   "source": []
  },
  {
   "cell_type": "code",
   "execution_count": null,
   "metadata": {},
   "outputs": [],
   "source": []
  },
  {
   "cell_type": "code",
   "execution_count": null,
   "metadata": {},
   "outputs": [],
   "source": []
  },
  {
   "cell_type": "code",
   "execution_count": null,
   "metadata": {},
   "outputs": [],
   "source": []
  }
 ],
 "metadata": {
  "kernelspec": {
   "display_name": "base",
   "language": "python",
   "name": "python3"
  },
  "language_info": {
   "codemirror_mode": {
    "name": "ipython",
    "version": 3
   },
   "file_extension": ".py",
   "mimetype": "text/x-python",
   "name": "python",
   "nbconvert_exporter": "python",
   "pygments_lexer": "ipython3",
   "version": "3.11.7"
  }
 },
 "nbformat": 4,
 "nbformat_minor": 2
}
