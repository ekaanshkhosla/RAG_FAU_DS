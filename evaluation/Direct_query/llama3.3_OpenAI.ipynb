{
 "cells": [
  {
   "cell_type": "code",
   "execution_count": 1,
   "metadata": {},
   "outputs": [
    {
     "data": {
      "text/plain": [
       "True"
      ]
     },
     "execution_count": 1,
     "metadata": {},
     "output_type": "execute_result"
    }
   ],
   "source": [
    "import os\n",
    "from dotenv import load_dotenv\n",
    "\n",
    "# Load environment variables from the .env file\n",
    "load_dotenv(dotenv_path=\"../../keys/.env\")"
   ]
  },
  {
   "cell_type": "code",
   "execution_count": 2,
   "metadata": {},
   "outputs": [],
   "source": [
    "langchain_api_key = os.getenv(\"LANGCHAIN_API_KEY\")"
   ]
  },
  {
   "cell_type": "code",
   "execution_count": 3,
   "metadata": {},
   "outputs": [],
   "source": [
    "import os\n",
    "\n",
    "os.environ[\"LANGCHAIN_TRACING_V2\"] = \"true\"\n",
    "os.environ[\"LANGCHAIN_ENDPOINT\"] = \"https://api.smith.langchain.com\"\n",
    "langchain_api_key = os.getenv(\"LANGCHAIN_API_KEY\")"
   ]
  },
  {
   "cell_type": "code",
   "execution_count": 4,
   "metadata": {},
   "outputs": [
    {
     "name": "stderr",
     "output_type": "stream",
     "text": [
      "USER_AGENT environment variable not set, consider setting it to identify your requests.\n"
     ]
    }
   ],
   "source": [
    "from langchain_community.document_loaders import PyPDFLoader, WebBaseLoader\n",
    "from langchain.text_splitter import RecursiveCharacterTextSplitter\n",
    "\n",
    "# List of PDF file paths\n",
    "pdf_dir = \"../../data/pdfs\"\n",
    "pdf_files = [os.path.join(pdf_dir, file) for file in os.listdir(pdf_dir) if file.endswith(\".pdf\")]\n",
    "\n",
    "# URLs to load\n",
    "urls = [\n",
    "    \"https://www.math-datascience.nat.fau.de/im-studium/masterstudiengaenge/master-data-science/\",\n",
    "    \"https://www.fau.eu/studiengang/data-science-bsc/\",\n",
    "    \"https://www.fau.eu/studiengang/data-science-msc/\",\n",
    "]\n",
    "\n",
    "# Initialize an empty list to hold all document splits\n",
    "all_doc_splits = []\n",
    "\n",
    "# Define the text splitter with a chunk size of 1000 characters and overlap of 200\n",
    "text_splitter = RecursiveCharacterTextSplitter.from_tiktoken_encoder(\n",
    "    chunk_size=1000, \n",
    "    chunk_overlap=200)\n",
    "\n",
    "### Process PDF files ###\n",
    "for pdf_file in pdf_files:\n",
    "    # Load the PDF\n",
    "    pdf_loader = PyPDFLoader(pdf_file)\n",
    "    documents = pdf_loader.load()\n",
    "    \n",
    "    # Split the documents into chunks\n",
    "    doc_splits = text_splitter.split_documents(documents)\n",
    "    \n",
    "    # Add the splits to the overall list\n",
    "    all_doc_splits.extend(doc_splits)\n",
    "\n",
    "### Process Web URLs ###\n",
    "docs = [WebBaseLoader(url).load() for url in urls]\n",
    "docs_list = [item for sublist in docs for item in sublist]\n",
    "\n",
    "# Split the web documents into chunks\n",
    "web_doc_splits = text_splitter.split_documents(docs_list)\n",
    "\n",
    "# Add the web document splits to the overall list\n",
    "all_doc_splits.extend(web_doc_splits)\n",
    "\n",
    "# Now, all_doc_splits contains the splits from both the PDF files and the web documents."
   ]
  },
  {
   "cell_type": "code",
   "execution_count": 5,
   "metadata": {},
   "outputs": [
    {
     "name": "stdout",
     "output_type": "stream",
     "text": [
      "175\n"
     ]
    }
   ],
   "source": [
    "print(len(all_doc_splits))"
   ]
  },
  {
   "cell_type": "code",
   "execution_count": 6,
   "metadata": {},
   "outputs": [],
   "source": [
    "# Index\n",
    "from langchain_openai import OpenAIEmbeddings\n",
    "from langchain_community.vectorstores import Chroma\n",
    "from langchain_community.vectorstores import SKLearnVectorStore\n",
    "from langchain_community.vectorstores import FAISS\n",
    "\n",
    "\n",
    "vectorstore = FAISS.from_documents(documents=all_doc_splits, \n",
    "                                    embedding=OpenAIEmbeddings())\n",
    "\n",
    "retriever = vectorstore.as_retriever()"
   ]
  },
  {
   "cell_type": "code",
   "execution_count": 7,
   "metadata": {},
   "outputs": [],
   "source": [
    "groq_api_key = os.getenv(\"GROQ_API_KEY\")"
   ]
  },
  {
   "cell_type": "code",
   "execution_count": 8,
   "metadata": {},
   "outputs": [],
   "source": [
    "from langchain.prompts import ChatPromptTemplate\n",
    "from langchain_groq import ChatGroq\n",
    "from langchain_core.output_parsers import StrOutputParser\n",
    "\n",
    "# Direct Query: Correct Spelling and Grammar Only\n",
    "template = \"\"\"You are an AI language model assistant. Your task is to correct any spelling or grammatical mistakes in the given user question while keeping the wording unchanged. \n",
    "Provide only the corrected question and nothing else.\n",
    "Original question: {question}\"\"\"\n",
    "\n",
    "prompt_perspectives = ChatPromptTemplate.from_template(template)\n",
    "\n",
    "# Ensure ChatGroq is properly set up\n",
    "generate_queries = (\n",
    "    prompt_perspectives \n",
    "    | ChatGroq(model_name=\"llama-3.3-70b-versatile\") \n",
    "    | StrOutputParser()\n",
    ")\n"
   ]
  },
  {
   "cell_type": "code",
   "execution_count": 9,
   "metadata": {},
   "outputs": [],
   "source": [
    "questions = [\n",
    "    \"Will the language of instruction of my Bachelor’s degree suffice to demonstrate my proficiency in English for admission in MSc Data Science at FAU Erlangen?\",\n",
    "    \"Is it possible to defer my admission to a future semester?\",\n",
    "    \"What are the consequences of failing an examination three times?\",\n",
    "    \"Who is eligible to supervise my Master’s thesis?\",\n",
    "    \"How many ECTS credits are required before I can start writing my Master’s thesis?\",\n",
    "    \"What are the admission requirements of MSc Data Science?\",\n",
    "    \"What is the teaching language of MSc Data Science?\",\n",
    "    \"What is the teaching language of BSc Data Science?\",\n",
    "    \"What are the next steps if I get an admission?\",\n",
    "    \"Is German required for MSc Data Science?\",\n",
    "    \"As your application period will start on 15 February 2024 for the winter semester 2024/25, I have received an offer letter for the summer semester 2024. Do I have to reapply to defer my admission? Can I reapply with my existing account on the Campo portal, which I used for the summer semester, or do I have to open a new account to reapply for the winter 2024/25?\",\n",
    "    \"Hello, I have applied to a Master's degree program in Data Science (both part-time and full-time) at FAU. Unfortunately, I have not added my previous offer letter (offer letter is attached below). However, the application portal is not letting me add this offer letter now as it says I cannot change it because my other applications are in process. How do I add this now? I have tried to contact the Masterbüro and admission office, but I have not received any response yet!\",\n",
    "    \"I just wanted to know if the course 'Trustworthy Artificial Intelligence' can be taken as a Master Seminar in my course. On Campo, I find it mentioned as both a Master Seminar and an application subject (screenshot attached). Just to clarify before taking the subject.\",\n",
    "    \"I am currently pursuing a Master's degree in Data Science. I have registered for the course 'Machine Learning for Engineers 1' for the upcoming examination. Is it eligible to be counted towards the requirements of my degree program? If it is, could you please inform me under which category it falls? I would greatly appreciate your guidance on this matter.\",\n",
    "    \"What exactly defines the completion of a degree? Is it the transcript showing 120 ECTS? Let’s say I complete my thesis in September, but the transcript gets updated exactly on 15th October (for example). According to the university, will I be de-enrolled at the end of the Winter semester 2025? But if I apply for de-enrollment myself, can I be de-enrolled at any time during the winter semester? Hope I understood the information correctly.\",\n",
    "    \"Sir/Madam, I am a prospective student of your esteemed university from India. I would like to join the Master's program in Data Science (English-taught) in 2024. I have some doubts regarding the full-time study program: 1) What is the duration of a single semester? 2) How many hours of class should I take in a week? 3) If I opt for the full-time study program, would I be able to do part-time jobs? Eagerly waiting for your reply.\",\n",
    "    \"I'm a final-year Electrical Engineering student at NUST, Pakistan, interested in the Master's in Data Science program. Having taken relevant coursework in statistics and computer science, along with online courses, I'm curious about my eligibility. My transcript is attached for review.\",\n",
    "    \"I have failed two courses: 'Mathematical Foundations of Artificial Intelligence' and 'Neural Networks and Data Analytics - Artificial Intelligence I'. Both of them have not been registered for the exam automatically. Last semester, my failed courses were registered automatically, but this time, it doesn't look like that. Please clarify!\",\n",
    "    \"I am a Master's in Data Science student keen to enroll in a Computer Vision Seminar. This seminar is closely related to my academic and career goals. I also got enrolled in this course. However, I couldn't find it in the current course catalog for our program. I kindly request the addition of the Computer Vision Seminar to our course offerings. I believe it will greatly benefit students interested in this field. Your consideration is greatly appreciated.\",\n",
    "    \"I am from Data Science, and I am writing to seek your guidance regarding the completion of my major module requirements. I have completed all my credits except for 2.5 ECTS in the major module. In light of this, I would like to ask whether I can fulfill this requirement by taking only a 2.5 ECTS subject, or if I can also consider enrolling in a 5 ECTS subject to meet this requirement. I would appreciate your advice on the best course of action to ensure I complete my credits in a timely and effective manner.\"\n",
    "]"
   ]
  },
  {
   "cell_type": "code",
   "execution_count": 10,
   "metadata": {},
   "outputs": [
    {
     "name": "stderr",
     "output_type": "stream",
     "text": [
      "C:\\Users\\ekaan\\AppData\\Local\\Temp\\ipykernel_10496\\1901053509.py:10: LangChainDeprecationWarning: The method `BaseRetriever.get_relevant_documents` was deprecated in langchain-core 0.1.46 and will be removed in 1.0. Use :meth:`~invoke` instead.\n",
      "  docs = retriever.get_relevant_documents(rephrased_question)\n"
     ]
    }
   ],
   "source": [
    "answers = []\n",
    "\n",
    "retriever = vectorstore.as_retriever()\n",
    "\n",
    "for question in questions:\n",
    "    # Step 1: Rephrase the question\n",
    "    rephrased_question = generate_queries.invoke(question)\n",
    "\n",
    "    # Step 2: Retrieve relevant documents using the rephrased question\n",
    "    docs = retriever.get_relevant_documents(rephrased_question)\n",
    "\n",
    "    from operator import itemgetter\n",
    "    from langchain_openai import ChatOpenAI\n",
    "    from langchain_core.runnables import RunnablePassthrough\n",
    "\n",
    "    # Step 3: Answer using retrieved documents\n",
    "    template = \"\"\"Answer the following question based on this context:\n",
    "\n",
    "    {context}\n",
    "\n",
    "    Question: {question}\n",
    "    \"\"\"\n",
    "\n",
    "    prompt = ChatPromptTemplate.from_template(template)\n",
    "\n",
    "    final_rag_chain = (\n",
    "        {\"context\": itemgetter(\"context\"), \n",
    "         \"question\": itemgetter(\"question\")} \n",
    "        | prompt\n",
    "        | ChatGroq(model_name=\"llama-3.3-70b-versatile\")\n",
    "        | StrOutputParser()\n",
    "    )\n",
    "\n",
    "    # Invoke the final RAG pipeline\n",
    "    ans = final_rag_chain.invoke({\"context\": docs, \"question\": rephrased_question})\n",
    "    answers.append(ans)\n"
   ]
  },
  {
   "cell_type": "code",
   "execution_count": 11,
   "metadata": {},
   "outputs": [
    {
     "data": {
      "text/plain": [
       "[\"Yes, if your Bachelor's degree was taught in English, you can apply with a certificate from your university stating that the language of instruction for your degree was English. This will be sufficient to prove your English language proficiency for admission to the MSc Data Science program at FAU Erlangen.\",\n",
       " 'Yes, it is possible to defer your admission to a future semester. According to the provided context, if you are unable to join on time due to visa issues or other reasons, you can defer your semester. The procedure for deferring your semester can be found in the admission letter. Additionally, if you have already received an offer letter for a summer semester, you can reapply for a winter semester using your existing Campo account.',\n",
       " 'According to the context, if a student fails an examination three times, the module will be counted as not being passed, and this state cannot be changed. If the module is an elective mandatory module, the student can choose another module and continue their studies. However, if the module is a core module of the study course, the student cannot continue their studies in that program at FAU.',\n",
       " \"According to the provided context, the supervisor of your Master's thesis can be a professor from one of the four departments mentioned (although the document does not explicitly list these departments). If you would like to write your thesis with a professor who is not a member of any of these departments, you need to ask the admission committee for permission in advance. Additionally, the second examiner of your Master's thesis must belong to one of these departments. \\n\\nIn the case of a company-based thesis, it is mandatory to have a supervisor from the university, who, together with a second examiner at the university, will be responsible for grading your Master's thesis.\",\n",
       " \"It is highly recommended that you complete 75 ECTS of your study curriculum before starting to write your Master's thesis. You should have completed all core modules and all modules of your major subject first.\",\n",
       " 'The admission requirements for MSc Data Science at FAU include:\\n\\n1. A completed B.Sc. degree in Mathematics, Industrial Mathematics, Mathematical Economy, Computer Science, Data Science, or Physics from FAU or another equivalent domestic or international degree.\\n2. A Grade Point Average (GPA) of 2.5 or better with respect to the German grading system.\\n3. English proficiency at level B2 CEFR (vantage or upper intermediate, not older than 2 years) or six years of English classes at a German secondary school (Gymnasium).\\n4. Applicants with a GPA between 2.6 and 2.8 may be invited for a short online interview to evaluate their knowledge in calculus, linear algebra, algorithms, and data structures.\\n\\nNote: The admission committee assesses the competence profile of each applicant, and it cannot be evaluated in advance.',\n",
       " 'The teaching language of the MSc Data Science program is mainly English, but some specializations, such as Mathematical Theory/Fundamentals of Data Science and Mathematical Statistical Data Analysis, are taught in German. Additionally, some individual modules may be held in German, but students can request the professor to switch to English if needed.',\n",
       " \"According to the context provided, the teaching language for the Master's degree program in Data Science is English for some specializations (Data-based optimization, Data bases and knowledge representation, Machine learning/artificial Intelligence, and Simulation and numerics) and German for others (Mathematical theory/foundations of data science and Mathematical statistical data analysis). However, it does not explicitly mention the teaching language for the BSc (Bachelor of Science) Data Science program.\\n\\nBut in the provided context, there is information about the Bachelor's degree program structure, and it mentions that some modules are taught in German, such as Chemistry, Digital Humanities, and Physics, while others like Geography and International Information Systems do not specify the language, implying they might be in English. \\n\\nGiven the mix of languages for different subjects within the Bachelor's program, it can be inferred that the teaching language for BSc Data Science is not exclusively one language but rather a combination of both English and German, depending on the specific modules or specializations chosen by the student.\",\n",
       " \"The provided context doesn't explicitly outline the next steps after receiving an admission. However, it does mention some general information about the application and admission process.\\n\\nIf you're looking for information on what to do after being admitted, you might want to consider the following general steps, although they are not directly mentioned in the context:\\n\\n1. **Review and accept the admission offer**: You will likely need to formally accept the admission offer by a certain deadline.\\n2. **Complete any remaining requirements**: This might include submitting additional documents, such as proof of language proficiency or academic transcripts.\\n3. **Apply for a visa (if necessary)**: If you're an international student, you may need to apply for a student visa to study in the country where the university is located.\\n4. **Arrange for accommodation and living expenses**: You'll need to find a place to live and plan for living expenses, such as food, transportation, and other necessities.\\n5. **Prepare for the start of the semester**: This might include purchasing course materials, attending orientation events, and getting familiar with the university's campus and facilities.\\n\\nFor specific guidance on the next steps after receiving an admission, I recommend contacting the university's admissions office or checking their website for more information.\",\n",
       " \"According to the provided context, the teaching language for the MSc Data Science program at FAU is completely in English. However, there might be a few courses that are taught in German, especially in the specializations Mathematical theory/foundations of data science (MTG) and Mathematical statistical data analysis (MSD). But for other specializations like Data-based optimization (DO), Data bases and knowledge representation (DW), Machine learning/artificial Intelligence (AI), and Simulation and numerics (SN), the teaching language is English. \\n\\nSo, while German is not strictly required, having some knowledge of German may be beneficial for certain courses or specializations. But it's not a mandatory requirement for the program as a whole.\",\n",
       " 'Yes, you need to reapply to defer your admission. You can reapply using your existing Campo account, which you used for the summer semester. You do not need to open a new account to reapply for the winter semester 2024/25.',\n",
       " 'The answer to your question is as follows:\\n\\nSorry for my late reply. Due to the abolition of the 60 ECTS regulation from the winter semester 2022/23, there is a fundamental change in the examinations regulations of the Data Science Program. Hence, the letter of admission from the winter semester 2021/22 will no longer be recognized. This means that your application will be completely re-examined and re-evaluated. It, therefore, makes no difference whether it has been uploaded or not. I hope you understand.',\n",
       " 'The course \"Trustworthy Artificial Intelligence\" can be counted as a Master Seminar.',\n",
       " \"Based on the context, it appears that 'Machine Learning for Engineers 1' is related to the field of Data Science. However, the exact categorization of this course within the Master's degree program in Data Science is not explicitly stated.\\n\\nIn a similar query, it was mentioned that 'Machine Learning for Engineers 1 and 2' falls under a specific category, but the category was not specified in the provided context.\\n\\nTo determine the eligibility and categorization of 'Machine Learning for Engineers 1', I would recommend checking the course catalogue or consulting with the Data Science department or the Examinations Office. They should be able to provide more information on whether this course can be counted towards the degree requirements and under which category it falls.\\n\\nIt is also possible that the course may be considered as an 'Application' subject, as mentioned in a similar context. However, without further clarification, it is difficult to provide a definitive answer.\\n\\nI would suggest reaching out to the Data Science department or the Examinations Office to confirm the eligibility and categorization of 'Machine Learning for Engineers 1' within your degree program.\",\n",
       " 'To complete your degree, you need to have finished 120 ECTS, which includes all core, major, minor, application modules, seminar, and thesis. \\n\\nIf you complete 120 ECTS by September 2024 and your supervisor submits your thesis grade to the examination office before the end of September 2024, you will be deregistered by the end of the summer semester 2024. \\n\\nIf you complete your 120 ECTS in October 2024, then you will be deregistered by the end of the Winter Semester 2024-25. \\n\\nHowever, you have the option to choose to de-register yourself earlier, at any time during the semester, if you have completed all the requirements for your degree. \\n\\nSo, in your example, if you complete your thesis in September but the transcript gets updated on 15th October, according to the university, you will be de-enrolled at the end of the Winter Semester 2024-25. But if you apply for de-enrollment yourself, you can be de-enrolled at any time during the winter semester, as long as you have completed all the requirements for your degree.',\n",
       " 'Here are the answers to your questions:\\n\\n1. The duration of one semester is 6 months.\\n2. There is generally no restriction on the number of hours of study per week. You can take subjects as per your comfort. It is recommended to take 30 ECTS per semester (1 ECTS = 1 hour of study).\\n3. Yes, you can work part-time. A student can work up to 20 hours a week with a part-time student job.\\n\\nI hope this helps, and I wish you the best with your studies at the university!',\n",
       " \"The admissions committee evaluates your profile only after you apply to the study program via the campo portal. They will review your transcript and other application materials to determine your eligibility for the Master's in Data Science program.\",\n",
       " \"The automatic re-registration for second attempts in examinations is done manually by the examination office. It's possible that the registration process has not been completed yet, which is why you haven't been automatically registered for the exam. You can try sending a polite email to the examination office a week before the examination if you are not registered by then. Additionally, you can also participate in the examination if you inform the teacher that you plan to attend the examination but are not registered on Campo yet.\",\n",
       " 'The answer to your question is: \\n\\nI recommend you to send a course description for the seminar with all its details (e.g., module number, exact name in Campo) to the examination committee and ask them if the seminar can be included in one of the module groups of the M.Sc. Data Science.',\n",
       " 'Based on the provided context, it appears that you can use a 5 ECTS subject to meet the 2.5 ECTS requirement, as there is no explicit mention of needing to take a subject with exactly 2.5 ECTS to fulfill the requirement. \\n\\nIn the context, it is mentioned that \"You can use your working experience as a technical qualification if you work longer than 4 weeks in a company and if your tasks are related to Data Science. The examination committee has to agree to your work description in order to be usable as a module. Usually, you will have to hand in a short report (~ 10 pages) about your working tasks.\" This implies that the committee is flexible with regards to the credits, and it might be possible to use a 5 ECTS subject to cover the remaining 2.5 ECTS requirement.\\n\\nHowever, to confirm this, it would be best to contact the examination office or your mentor to discuss your options and determine the best course of action to complete your credits in a timely and effective manner. They can provide guidance on whether you can use a 5 ECTS subject to meet the 2.5 ECTS requirement and help you create a plan to ensure you complete your major module requirements successfully.']"
      ]
     },
     "execution_count": 11,
     "metadata": {},
     "output_type": "execute_result"
    }
   ],
   "source": [
    "answers"
   ]
  },
  {
   "cell_type": "code",
   "execution_count": 12,
   "metadata": {},
   "outputs": [],
   "source": [
    "Ground_truth = [\n",
    "    \"Yes, if your Bachelor’s degree was taught in English then you can apply with a certificate from your university stating that the language of instruction for your degree has been in English.\",\n",
    "    \"Yes, it is possible to defer your admission. Just re-apply for the next semester and upload the current admission letter you received. You will be granted admission provided that there are no significant changes to the regulations and selection criteria.\",\n",
    "    \"After three unsuccessful attempts for an examination, the module will be counted as not being passed. This state cannot be changed, and you cannot pass this module in the future. If the module is an elective mandatory module (core elective module in Campo), you can choose another module and continue your studies. If the module is a core module of your study course (Mathematics of Learning, Selected Topics of Mathematics of Learning, or Deep Learning), you cannot continue your studies in this program at FAU.\",\n",
    "    \"To start your Master’s thesis, you need an official supervisor from FAU. The person must be a professor or at least have completed a habilitation ('Dr. habil.' or 'PD') and must be a member of one of the following departments: Data Science, Mathematics, Computer Science, or Artificial Intelligence in Biomedical Engineering (AIBE). Professors who are secondary members in these departments can also supervise. Your official supervisor is also the first examiner of your thesis and should propose a second examiner from any department at FAU. Additional guidance from PhD students is possible, but they cannot be official supervisors.\",\n",
    "    \"It is highly recommended that you complete 75 ECTS of your study curriculum before choosing a Master’s seminar topic. You should complete all core modules and major modules first. Your thesis topic should ideally align with your specialization and Master’s seminar, following §54 of the examination regulations ('Mentoring') and your individual study agreement.\",\n",
    "    \"A completed B.Sc. degree in Mathematics, Industrial Mathematics, Mathematical Economy, Computer Science, Data Science, or Physics from FAU or an equivalent domestic or international degree that aligns with the competence profile of the program. A GPA of 2.5 or better (German grading system) is required. Applicants with a GPA between 2.6 and 2.8 will be invited for an online interview assessing their knowledge of calculus, linear algebra, algorithms, and data structures. English proficiency at B2 CEFR or proof of English-taught education is required.\",\n",
    "    \"Completely in English.\",\n",
    "    \"Completely in German.\",\n",
    "    \"After receiving your admission letter, you must enroll for the next semester by sending certified documents via postal service to the Student Records Office. The enrollment fee should be transferred in advance, especially if transferring from abroad (recommended two weeks before). After enrollment, you gain access to online teaching resources and platforms like StudOn and Campo.\",\n",
    "    \"No, but solid German knowledge (B1) is recommended for daily life, internships, and working student jobs. However, a certificate is not required for the application.\",\n",
    "    \"You can reapply using your existing Campo account.\",\n",
    "    \"Due to the abolition of the 60 ECTS regulation from the winter semester 2022/23, the examination regulations of the Data Science program changed. The letter of admission from winter semester 2021/22 will no longer be recognized. Your application will be completely re-examined and re-evaluated, so uploading the previous offer letter makes no difference.\",\n",
    "    \"As you found on Campo, the seminar can be counted as a Master Seminar.\",\n",
    "    \"This course is not recognized for the MSc Data Science study program. Therefore, even if you attend this course, you will not be able to accredit any ECTS.\",\n",
    "    \"To complete your degree, you need 120 ECTS, including all core, major, minor, application modules, seminar, and thesis. If you complete 120 ECTS by September 2024 and your supervisor submits your thesis grade before the end of September, you will be deregistered at the end of the summer semester 2024. If you complete it in October 2024, you will be deregistered at the end of the winter semester 2024/25. You can also choose to de-register earlier if desired.\",\n",
    "    \"1) The duration of one semester is 6 months. 2) There is no restriction on study hours per week. You can take subjects at your comfort, but 30 ECTS per semester is recommended (1 ECTS = 1 hour of study). 3) Yes, you can work part-time. A student can work up to 20 hours per week with a part-time student job.\",\n",
    "    \"The admissions committee evaluates your profile only after you apply via the Campo portal.\",\n",
    "    \"The automatic re-registration for second attempts in examinations is done manually by the examination office.\",\n",
    "    \"I recommend sending a course description for the seminar, including details like the module number and exact name in Campo, to the examination committee and asking if the seminar can be included in one of the module groups of the MSc Data Science program.\",\n",
    "    \"You can complete a 5 ECTS module instead of a 2.5 ECTS module. Just ensure that you meet at least the 2.5 ECTS requirement.\"\n",
    "]"
   ]
  },
  {
   "cell_type": "code",
   "execution_count": 13,
   "metadata": {},
   "outputs": [],
   "source": [
    "from datasets import Dataset \n",
    "from ragas.metrics import faithfulness, answer_correctness\n",
    "from ragas import evaluate"
   ]
  },
  {
   "cell_type": "code",
   "execution_count": 14,
   "metadata": {},
   "outputs": [
    {
     "data": {
      "application/vnd.jupyter.widget-view+json": {
       "model_id": "d5fd4b00929a4813895f48a89332bcd8",
       "version_major": 2,
       "version_minor": 0
      },
      "text/plain": [
       "Evaluating:   0%|          | 0/20 [00:00<?, ?it/s]"
      ]
     },
     "metadata": {},
     "output_type": "display_data"
    },
    {
     "data": {
      "text/html": [
       "<div>\n",
       "<style scoped>\n",
       "    .dataframe tbody tr th:only-of-type {\n",
       "        vertical-align: middle;\n",
       "    }\n",
       "\n",
       "    .dataframe tbody tr th {\n",
       "        vertical-align: top;\n",
       "    }\n",
       "\n",
       "    .dataframe thead th {\n",
       "        text-align: right;\n",
       "    }\n",
       "</style>\n",
       "<table border=\"1\" class=\"dataframe\">\n",
       "  <thead>\n",
       "    <tr style=\"text-align: right;\">\n",
       "      <th></th>\n",
       "      <th>user_input</th>\n",
       "      <th>response</th>\n",
       "      <th>reference</th>\n",
       "      <th>answer_correctness</th>\n",
       "    </tr>\n",
       "  </thead>\n",
       "  <tbody>\n",
       "    <tr>\n",
       "      <th>0</th>\n",
       "      <td>Will the language of instruction of my Bachelo...</td>\n",
       "      <td>Yes, if your Bachelor's degree was taught in E...</td>\n",
       "      <td>Yes, if your Bachelor’s degree was taught in E...</td>\n",
       "      <td>0.874341</td>\n",
       "    </tr>\n",
       "    <tr>\n",
       "      <th>1</th>\n",
       "      <td>Is it possible to defer my admission to a futu...</td>\n",
       "      <td>Yes, it is possible to defer your admission to...</td>\n",
       "      <td>Yes, it is possible to defer your admission. J...</td>\n",
       "      <td>0.413342</td>\n",
       "    </tr>\n",
       "    <tr>\n",
       "      <th>2</th>\n",
       "      <td>What are the consequences of failing an examin...</td>\n",
       "      <td>According to the context, if a student fails a...</td>\n",
       "      <td>After three unsuccessful attempts for an exami...</td>\n",
       "      <td>0.908437</td>\n",
       "    </tr>\n",
       "    <tr>\n",
       "      <th>3</th>\n",
       "      <td>Who is eligible to supervise my Master’s thesis?</td>\n",
       "      <td>According to the provided context, the supervi...</td>\n",
       "      <td>To start your Master’s thesis, you need an off...</td>\n",
       "      <td>0.602021</td>\n",
       "    </tr>\n",
       "    <tr>\n",
       "      <th>4</th>\n",
       "      <td>How many ECTS credits are required before I ca...</td>\n",
       "      <td>It is highly recommended that you complete 75 ...</td>\n",
       "      <td>It is highly recommended that you complete 75 ...</td>\n",
       "      <td>0.737637</td>\n",
       "    </tr>\n",
       "    <tr>\n",
       "      <th>5</th>\n",
       "      <td>What are the admission requirements of MSc Dat...</td>\n",
       "      <td>The admission requirements for MSc Data Scienc...</td>\n",
       "      <td>A completed B.Sc. degree in Mathematics, Indus...</td>\n",
       "      <td>0.738229</td>\n",
       "    </tr>\n",
       "    <tr>\n",
       "      <th>6</th>\n",
       "      <td>What is the teaching language of MSc Data Scie...</td>\n",
       "      <td>The teaching language of the MSc Data Science ...</td>\n",
       "      <td>Completely in English.</td>\n",
       "      <td>0.494686</td>\n",
       "    </tr>\n",
       "    <tr>\n",
       "      <th>7</th>\n",
       "      <td>What is the teaching language of BSc Data Scie...</td>\n",
       "      <td>According to the context provided, the teachin...</td>\n",
       "      <td>Completely in German.</td>\n",
       "      <td>0.192806</td>\n",
       "    </tr>\n",
       "    <tr>\n",
       "      <th>8</th>\n",
       "      <td>What are the next steps if I get an admission?</td>\n",
       "      <td>The provided context doesn't explicitly outlin...</td>\n",
       "      <td>After receiving your admission letter, you mus...</td>\n",
       "      <td>0.215938</td>\n",
       "    </tr>\n",
       "    <tr>\n",
       "      <th>9</th>\n",
       "      <td>Is German required for MSc Data Science?</td>\n",
       "      <td>According to the provided context, the teachin...</td>\n",
       "      <td>No, but solid German knowledge (B1) is recomme...</td>\n",
       "      <td>0.429040</td>\n",
       "    </tr>\n",
       "    <tr>\n",
       "      <th>10</th>\n",
       "      <td>As your application period will start on 15 Fe...</td>\n",
       "      <td>Yes, you need to reapply to defer your admissi...</td>\n",
       "      <td>You can reapply using your existing Campo acco...</td>\n",
       "      <td>0.525782</td>\n",
       "    </tr>\n",
       "    <tr>\n",
       "      <th>11</th>\n",
       "      <td>Hello, I have applied to a Master's degree pro...</td>\n",
       "      <td>The answer to your question is as follows:\\n\\n...</td>\n",
       "      <td>Due to the abolition of the 60 ECTS regulation...</td>\n",
       "      <td>0.788804</td>\n",
       "    </tr>\n",
       "    <tr>\n",
       "      <th>12</th>\n",
       "      <td>I just wanted to know if the course 'Trustwort...</td>\n",
       "      <td>The course \"Trustworthy Artificial Intelligenc...</td>\n",
       "      <td>As you found on Campo, the seminar can be coun...</td>\n",
       "      <td>0.969946</td>\n",
       "    </tr>\n",
       "    <tr>\n",
       "      <th>13</th>\n",
       "      <td>I am currently pursuing a Master's degree in D...</td>\n",
       "      <td>Based on the context, it appears that 'Machine...</td>\n",
       "      <td>This course is not recognized for the MSc Data...</td>\n",
       "      <td>0.196633</td>\n",
       "    </tr>\n",
       "    <tr>\n",
       "      <th>14</th>\n",
       "      <td>What exactly defines the completion of a degre...</td>\n",
       "      <td>To complete your degree, you need to have fini...</td>\n",
       "      <td>To complete your degree, you need 120 ECTS, in...</td>\n",
       "      <td>0.994476</td>\n",
       "    </tr>\n",
       "    <tr>\n",
       "      <th>15</th>\n",
       "      <td>Sir/Madam, I am a prospective student of your ...</td>\n",
       "      <td>Here are the answers to your questions:\\n\\n1. ...</td>\n",
       "      <td>1) The duration of one semester is 6 months. 2...</td>\n",
       "      <td>0.900933</td>\n",
       "    </tr>\n",
       "    <tr>\n",
       "      <th>16</th>\n",
       "      <td>I'm a final-year Electrical Engineering studen...</td>\n",
       "      <td>The admissions committee evaluates your profil...</td>\n",
       "      <td>The admissions committee evaluates your profil...</td>\n",
       "      <td>0.831037</td>\n",
       "    </tr>\n",
       "    <tr>\n",
       "      <th>17</th>\n",
       "      <td>I have failed two courses: 'Mathematical Found...</td>\n",
       "      <td>The automatic re-registration for second attem...</td>\n",
       "      <td>The automatic re-registration for second attem...</td>\n",
       "      <td>0.440518</td>\n",
       "    </tr>\n",
       "    <tr>\n",
       "      <th>18</th>\n",
       "      <td>I am a Master's in Data Science student keen t...</td>\n",
       "      <td>The answer to your question is: \\n\\nI recommen...</td>\n",
       "      <td>I recommend sending a course description for t...</td>\n",
       "      <td>0.995780</td>\n",
       "    </tr>\n",
       "    <tr>\n",
       "      <th>19</th>\n",
       "      <td>I am from Data Science, and I am writing to se...</td>\n",
       "      <td>Based on the provided context, it appears that...</td>\n",
       "      <td>You can complete a 5 ECTS module instead of a ...</td>\n",
       "      <td>0.456404</td>\n",
       "    </tr>\n",
       "  </tbody>\n",
       "</table>\n",
       "</div>"
      ],
      "text/plain": [
       "                                           user_input  \\\n",
       "0   Will the language of instruction of my Bachelo...   \n",
       "1   Is it possible to defer my admission to a futu...   \n",
       "2   What are the consequences of failing an examin...   \n",
       "3    Who is eligible to supervise my Master’s thesis?   \n",
       "4   How many ECTS credits are required before I ca...   \n",
       "5   What are the admission requirements of MSc Dat...   \n",
       "6   What is the teaching language of MSc Data Scie...   \n",
       "7   What is the teaching language of BSc Data Scie...   \n",
       "8      What are the next steps if I get an admission?   \n",
       "9            Is German required for MSc Data Science?   \n",
       "10  As your application period will start on 15 Fe...   \n",
       "11  Hello, I have applied to a Master's degree pro...   \n",
       "12  I just wanted to know if the course 'Trustwort...   \n",
       "13  I am currently pursuing a Master's degree in D...   \n",
       "14  What exactly defines the completion of a degre...   \n",
       "15  Sir/Madam, I am a prospective student of your ...   \n",
       "16  I'm a final-year Electrical Engineering studen...   \n",
       "17  I have failed two courses: 'Mathematical Found...   \n",
       "18  I am a Master's in Data Science student keen t...   \n",
       "19  I am from Data Science, and I am writing to se...   \n",
       "\n",
       "                                             response  \\\n",
       "0   Yes, if your Bachelor's degree was taught in E...   \n",
       "1   Yes, it is possible to defer your admission to...   \n",
       "2   According to the context, if a student fails a...   \n",
       "3   According to the provided context, the supervi...   \n",
       "4   It is highly recommended that you complete 75 ...   \n",
       "5   The admission requirements for MSc Data Scienc...   \n",
       "6   The teaching language of the MSc Data Science ...   \n",
       "7   According to the context provided, the teachin...   \n",
       "8   The provided context doesn't explicitly outlin...   \n",
       "9   According to the provided context, the teachin...   \n",
       "10  Yes, you need to reapply to defer your admissi...   \n",
       "11  The answer to your question is as follows:\\n\\n...   \n",
       "12  The course \"Trustworthy Artificial Intelligenc...   \n",
       "13  Based on the context, it appears that 'Machine...   \n",
       "14  To complete your degree, you need to have fini...   \n",
       "15  Here are the answers to your questions:\\n\\n1. ...   \n",
       "16  The admissions committee evaluates your profil...   \n",
       "17  The automatic re-registration for second attem...   \n",
       "18  The answer to your question is: \\n\\nI recommen...   \n",
       "19  Based on the provided context, it appears that...   \n",
       "\n",
       "                                            reference  answer_correctness  \n",
       "0   Yes, if your Bachelor’s degree was taught in E...            0.874341  \n",
       "1   Yes, it is possible to defer your admission. J...            0.413342  \n",
       "2   After three unsuccessful attempts for an exami...            0.908437  \n",
       "3   To start your Master’s thesis, you need an off...            0.602021  \n",
       "4   It is highly recommended that you complete 75 ...            0.737637  \n",
       "5   A completed B.Sc. degree in Mathematics, Indus...            0.738229  \n",
       "6                              Completely in English.            0.494686  \n",
       "7                               Completely in German.            0.192806  \n",
       "8   After receiving your admission letter, you mus...            0.215938  \n",
       "9   No, but solid German knowledge (B1) is recomme...            0.429040  \n",
       "10  You can reapply using your existing Campo acco...            0.525782  \n",
       "11  Due to the abolition of the 60 ECTS regulation...            0.788804  \n",
       "12  As you found on Campo, the seminar can be coun...            0.969946  \n",
       "13  This course is not recognized for the MSc Data...            0.196633  \n",
       "14  To complete your degree, you need 120 ECTS, in...            0.994476  \n",
       "15  1) The duration of one semester is 6 months. 2...            0.900933  \n",
       "16  The admissions committee evaluates your profil...            0.831037  \n",
       "17  The automatic re-registration for second attem...            0.440518  \n",
       "18  I recommend sending a course description for t...            0.995780  \n",
       "19  You can complete a 5 ECTS module instead of a ...            0.456404  "
      ]
     },
     "execution_count": 14,
     "metadata": {},
     "output_type": "execute_result"
    }
   ],
   "source": [
    "\n",
    "data_samples = {\n",
    "    \n",
    "    'question': questions,\n",
    "    \n",
    "    \"answer\": answers,\n",
    "    \n",
    "    'ground_truth': Ground_truth\n",
    "}\n",
    "\n",
    "dataset = Dataset.from_dict(data_samples)\n",
    "score = evaluate(dataset,metrics=[answer_correctness])\n",
    "score.to_pandas()"
   ]
  },
  {
   "cell_type": "code",
   "execution_count": 15,
   "metadata": {},
   "outputs": [
    {
     "name": "stdout",
     "output_type": "stream",
     "text": [
      "0.6353396173278973\n"
     ]
    }
   ],
   "source": [
    "print(sum(score.to_pandas()[\"answer_correctness\"]) / len(score.to_pandas()[\"answer_correctness\"]))"
   ]
  },
  {
   "cell_type": "code",
   "execution_count": null,
   "metadata": {},
   "outputs": [],
   "source": []
  }
 ],
 "metadata": {
  "kernelspec": {
   "display_name": "base",
   "language": "python",
   "name": "python3"
  },
  "language_info": {
   "codemirror_mode": {
    "name": "ipython",
    "version": 3
   },
   "file_extension": ".py",
   "mimetype": "text/x-python",
   "name": "python",
   "nbconvert_exporter": "python",
   "pygments_lexer": "ipython3",
   "version": "3.11.7"
  }
 },
 "nbformat": 4,
 "nbformat_minor": 2
}
