{
 "cells": [
  {
   "cell_type": "code",
   "execution_count": 1,
   "metadata": {},
   "outputs": [
    {
     "data": {
      "text/plain": [
       "True"
      ]
     },
     "execution_count": 1,
     "metadata": {},
     "output_type": "execute_result"
    }
   ],
   "source": [
    "import os\n",
    "from dotenv import load_dotenv\n",
    "\n",
    "# Load environment variables from the .env file\n",
    "load_dotenv(dotenv_path=\"../../keys/.env\")"
   ]
  },
  {
   "cell_type": "code",
   "execution_count": 2,
   "metadata": {},
   "outputs": [],
   "source": [
    "langchain_api_key = os.getenv(\"LANGCHAIN_API_KEY\")"
   ]
  },
  {
   "cell_type": "code",
   "execution_count": 3,
   "metadata": {},
   "outputs": [],
   "source": [
    "import os\n",
    "\n",
    "os.environ[\"LANGCHAIN_TRACING_V2\"] = \"true\"\n",
    "os.environ[\"LANGCHAIN_ENDPOINT\"] = \"https://api.smith.langchain.com\"\n",
    "langchain_api_key = os.getenv(\"LANGCHAIN_API_KEY\")"
   ]
  },
  {
   "cell_type": "code",
   "execution_count": 4,
   "metadata": {},
   "outputs": [
    {
     "name": "stderr",
     "output_type": "stream",
     "text": [
      "USER_AGENT environment variable not set, consider setting it to identify your requests.\n"
     ]
    }
   ],
   "source": [
    "from langchain_community.document_loaders import PyPDFLoader, WebBaseLoader\n",
    "from langchain.text_splitter import RecursiveCharacterTextSplitter\n",
    "\n",
    "# List of PDF file paths\n",
    "pdf_dir = \"../../data/pdfs\"\n",
    "pdf_files = [os.path.join(pdf_dir, file) for file in os.listdir(pdf_dir) if file.endswith(\".pdf\")]\n",
    "\n",
    "# URLs to load\n",
    "urls = [\n",
    "    \"https://www.math-datascience.nat.fau.de/im-studium/masterstudiengaenge/master-data-science/\",\n",
    "    \"https://www.fau.eu/studiengang/data-science-bsc/\",\n",
    "    \"https://www.fau.eu/studiengang/data-science-msc/\",\n",
    "]\n",
    "\n",
    "# Initialize an empty list to hold all document splits\n",
    "all_doc_splits = []\n",
    "\n",
    "# Define the text splitter with a chunk size of 1000 characters and overlap of 200\n",
    "text_splitter = RecursiveCharacterTextSplitter.from_tiktoken_encoder(\n",
    "    chunk_size=1000, \n",
    "    chunk_overlap=200)\n",
    "\n",
    "### Process PDF files ###\n",
    "for pdf_file in pdf_files:\n",
    "    # Load the PDF\n",
    "    pdf_loader = PyPDFLoader(pdf_file)\n",
    "    documents = pdf_loader.load()\n",
    "    \n",
    "    # Split the documents into chunks\n",
    "    doc_splits = text_splitter.split_documents(documents)\n",
    "    \n",
    "    # Add the splits to the overall list\n",
    "    all_doc_splits.extend(doc_splits)\n",
    "\n",
    "### Process Web URLs ###\n",
    "docs = [WebBaseLoader(url).load() for url in urls]\n",
    "docs_list = [item for sublist in docs for item in sublist]\n",
    "\n",
    "# Split the web documents into chunks\n",
    "web_doc_splits = text_splitter.split_documents(docs_list)\n",
    "\n",
    "# Add the web document splits to the overall list\n",
    "all_doc_splits.extend(web_doc_splits)\n",
    "\n",
    "# Now, all_doc_splits contains the splits from both the PDF files and the web documents."
   ]
  },
  {
   "cell_type": "code",
   "execution_count": 5,
   "metadata": {},
   "outputs": [
    {
     "name": "stdout",
     "output_type": "stream",
     "text": [
      "175\n"
     ]
    }
   ],
   "source": [
    "print(len(all_doc_splits))"
   ]
  },
  {
   "cell_type": "code",
   "execution_count": 6,
   "metadata": {},
   "outputs": [],
   "source": [
    "# Index\n",
    "from langchain_nomic import NomicEmbeddings\n",
    "from langchain_community.vectorstores import Chroma\n",
    "from langchain_community.vectorstores import SKLearnVectorStore\n",
    "from langchain_community.vectorstores import FAISS\n",
    "\n",
    "\n",
    "vectorstore = FAISS.from_documents(documents=all_doc_splits, \n",
    "                                    embedding=NomicEmbeddings(model=\"nomic-embed-text-v1.5\"))\n",
    "\n",
    "retriever = vectorstore.as_retriever()"
   ]
  },
  {
   "cell_type": "code",
   "execution_count": 7,
   "metadata": {},
   "outputs": [],
   "source": [
    "groq_api_key = os.getenv(\"GROQ_API_KEY\")"
   ]
  },
  {
   "cell_type": "code",
   "execution_count": 8,
   "metadata": {},
   "outputs": [],
   "source": [
    "from langchain.prompts import ChatPromptTemplate\n",
    "from langchain_groq import ChatGroq\n",
    "from langchain_core.output_parsers import StrOutputParser\n",
    "\n",
    "# Direct Query: Correct Spelling and Grammar Only\n",
    "template = \"\"\"You are an AI language model assistant. Your task is to correct any spelling or grammatical mistakes in the given user question while keeping the wording unchanged. \n",
    "Provide only the corrected question and nothing else.\n",
    "Original question: {question}\"\"\"\n",
    "\n",
    "prompt_perspectives = ChatPromptTemplate.from_template(template)\n",
    "\n",
    "# Ensure ChatGroq is properly set up\n",
    "generate_queries = (\n",
    "    prompt_perspectives \n",
    "    | ChatGroq(model_name=\"llama-3.3-70b-versatile\") \n",
    "    | StrOutputParser()\n",
    ")\n"
   ]
  },
  {
   "cell_type": "code",
   "execution_count": 9,
   "metadata": {},
   "outputs": [],
   "source": [
    "questions = [\n",
    "    \"Will the language of instruction of my Bachelor’s degree suffice to demonstrate my proficiency in English for admission in MSc Data Science at FAU Erlangen?\",\n",
    "    \"Is it possible to defer my admission to a future semester?\",\n",
    "    \"What are the consequences of failing an examination three times?\",\n",
    "    \"Who is eligible to supervise my Master’s thesis?\",\n",
    "    \"How many ECTS credits are required before I can start writing my Master’s thesis?\",\n",
    "    \"What are the admission requirements of MSc Data Science?\",\n",
    "    \"What is the teaching language of MSc Data Science?\",\n",
    "    \"What is the teaching language of BSc Data Science?\",\n",
    "    \"What are the next steps if I get an admission?\",\n",
    "    \"Is German required for MSc Data Science?\",\n",
    "    \"As your application period will start on 15 February 2024 for the winter semester 2024/25, I have received an offer letter for the summer semester 2024. Do I have to reapply to defer my admission? Can I reapply with my existing account on the Campo portal, which I used for the summer semester, or do I have to open a new account to reapply for the winter 2024/25?\",\n",
    "    \"Hello, I have applied to a Master's degree program in Data Science (both part-time and full-time) at FAU. Unfortunately, I have not added my previous offer letter (offer letter is attached below). However, the application portal is not letting me add this offer letter now as it says I cannot change it because my other applications are in process. How do I add this now? I have tried to contact the Masterbüro and admission office, but I have not received any response yet!\",\n",
    "    \"I just wanted to know if the course 'Trustworthy Artificial Intelligence' can be taken as a Master Seminar in my course. On Campo, I find it mentioned as both a Master Seminar and an application subject (screenshot attached). Just to clarify before taking the subject.\",\n",
    "    \"I am currently pursuing a Master's degree in Data Science. I have registered for the course 'Machine Learning for Engineers 1' for the upcoming examination. Is it eligible to be counted towards the requirements of my degree program? If it is, could you please inform me under which category it falls? I would greatly appreciate your guidance on this matter.\",\n",
    "    \"What exactly defines the completion of a degree? Is it the transcript showing 120 ECTS? Let’s say I complete my thesis in September, but the transcript gets updated exactly on 15th October (for example). According to the university, will I be de-enrolled at the end of the Winter semester 2025? But if I apply for de-enrollment myself, can I be de-enrolled at any time during the winter semester? Hope I understood the information correctly.\",\n",
    "    \"Sir/Madam, I am a prospective student of your esteemed university from India. I would like to join the Master's program in Data Science (English-taught) in 2024. I have some doubts regarding the full-time study program: 1) What is the duration of a single semester? 2) How many hours of class should I take in a week? 3) If I opt for the full-time study program, would I be able to do part-time jobs? Eagerly waiting for your reply.\",\n",
    "    \"I'm a final-year Electrical Engineering student at NUST, Pakistan, interested in the Master's in Data Science program. Having taken relevant coursework in statistics and computer science, along with online courses, I'm curious about my eligibility. My transcript is attached for review.\",\n",
    "    \"I have failed two courses: 'Mathematical Foundations of Artificial Intelligence' and 'Neural Networks and Data Analytics - Artificial Intelligence I'. Both of them have not been registered for the exam automatically. Last semester, my failed courses were registered automatically, but this time, it doesn't look like that. Please clarify!\",\n",
    "    \"I am a Master's in Data Science student keen to enroll in a Computer Vision Seminar. This seminar is closely related to my academic and career goals. I also got enrolled in this course. However, I couldn't find it in the current course catalog for our program. I kindly request the addition of the Computer Vision Seminar to our course offerings. I believe it will greatly benefit students interested in this field. Your consideration is greatly appreciated.\",\n",
    "    \"I am from Data Science, and I am writing to seek your guidance regarding the completion of my major module requirements. I have completed all my credits except for 2.5 ECTS in the major module. In light of this, I would like to ask whether I can fulfill this requirement by taking only a 2.5 ECTS subject, or if I can also consider enrolling in a 5 ECTS subject to meet this requirement. I would appreciate your advice on the best course of action to ensure I complete my credits in a timely and effective manner.\"\n",
    "]"
   ]
  },
  {
   "cell_type": "code",
   "execution_count": 10,
   "metadata": {},
   "outputs": [
    {
     "name": "stderr",
     "output_type": "stream",
     "text": [
      "C:\\Users\\ekaan\\AppData\\Local\\Temp\\ipykernel_7088\\1901053509.py:10: LangChainDeprecationWarning: The method `BaseRetriever.get_relevant_documents` was deprecated in langchain-core 0.1.46 and will be removed in 1.0. Use :meth:`~invoke` instead.\n",
      "  docs = retriever.get_relevant_documents(rephrased_question)\n"
     ]
    }
   ],
   "source": [
    "answers = []\n",
    "\n",
    "retriever = vectorstore.as_retriever()\n",
    "\n",
    "for question in questions:\n",
    "    # Step 1: Rephrase the question\n",
    "    rephrased_question = generate_queries.invoke(question)\n",
    "\n",
    "    # Step 2: Retrieve relevant documents using the rephrased question\n",
    "    docs = retriever.get_relevant_documents(rephrased_question)\n",
    "\n",
    "    from operator import itemgetter\n",
    "    from langchain_openai import ChatOpenAI\n",
    "    from langchain_core.runnables import RunnablePassthrough\n",
    "\n",
    "    # Step 3: Answer using retrieved documents\n",
    "    template = \"\"\"Answer the following question based on this context:\n",
    "\n",
    "    {context}\n",
    "\n",
    "    Question: {question}\n",
    "    \"\"\"\n",
    "\n",
    "    prompt = ChatPromptTemplate.from_template(template)\n",
    "\n",
    "    final_rag_chain = (\n",
    "        {\"context\": itemgetter(\"context\"), \n",
    "         \"question\": itemgetter(\"question\")} \n",
    "        | prompt\n",
    "        | ChatGroq(model_name=\"llama-3.3-70b-versatile\")\n",
    "        | StrOutputParser()\n",
    "    )\n",
    "\n",
    "    # Invoke the final RAG pipeline\n",
    "    ans = final_rag_chain.invoke({\"context\": docs, \"question\": rephrased_question})\n",
    "    answers.append(ans)\n"
   ]
  },
  {
   "cell_type": "code",
   "execution_count": 11,
   "metadata": {},
   "outputs": [
    {
     "data": {
      "text/plain": [
       "[\"Yes, if your Bachelor's degree was taught in English, then you can apply with a certificate from your university stating that the language of instruction for your degree was in English. This will be sufficient to prove your English language proficiency for admission to the MSc Data Science at FAU Erlangen.\",\n",
       " 'Based on the provided context, there is no direct answer to the question of deferring admission to a future semester. However, it can be inferred that the application deadline for the Summer 2024 intake of the MSc in Data Science program is 30 November 2023. If you have already submitted your application, it is unlikely that you can defer your admission to a future semester. \\n\\nIn one of the answers, it is mentioned that if you have already withdrawn from the university, you will need to reapply as a new student to continue your studies. This suggests that deferring admission might not be an option, and you might need to reapply if you want to start in a future semester.\\n\\nIt is recommended that you contact the admissions committee or the university administration directly to inquire about their policy on deferring admission, as this information is not explicitly stated in the provided context.',\n",
       " 'If you fail an examination three times, the module will be counted as not being passed, and this state cannot be changed. If the module is an elective mandatory module, you can choose another module and continue your studies. However, if the module is a core module of your study course, you cannot continue your studies in that program at FAU.',\n",
       " 'To supervise your Master\\'s thesis, the person must be a professor or have a finished habilitation (recognizable by the title \"Dr. habil.\" or \"PD\") and have a membership in one of the following departments: \\n\\n1. Department of Data Science\\n2. Department of Mathematics\\n3. Department of Computer Science\\n4. Department of Artificial Intelligence in Biomedical Engineering (AIBE)\\n\\nProfessors who are secondary members in one of these listed departments can also supervise your thesis. However, if the proposed supervisor is not from one of these departments, you may need to get approval from the examination committee and find a co-supervisor from one of the aforementioned departments.',\n",
       " \"It is highly recommended that you complete 75 ECTS of your study curriculum before you can start writing your Master's thesis.\",\n",
       " \"The admission requirements for MSc Data Science are:\\n\\n1. A completed B.Sc. degree in Mathematics, Industrial Mathematics, Mathematical Economy, Computer Science, Data Science, or Physics from FAU or another equivalent domestic or international degree that is not significantly different with regard to the competence profile taught in the respective degree.\\n2. A Grade Point Average (GPA) of 2.5 or better.\\n3. An English certificate.\\n\\nNote: The admission committee also considers the ranking of the university from which the applicant graduated, with preference given to applicants from highly ranked universities. \\n\\nIt's also worth noting that the admission committee reviews each application individually, and there may be additional factors considered in the admission decision. If you're interested in applying, it's best to review the contents of the degree program and determine if your degree is relevant before submitting a formal application through the admissions portal.\",\n",
       " \"The teaching language of the MSc Data Science program is completely in English, although there might be a few courses that are taught in German. In such cases, students can request the professor to switch to English. However, it's also mentioned that for some specializations, such as Mathematical theory/foundations of data science and Mathematical statistical data analysis, the teaching language is German.\",\n",
       " 'The teaching language of the BSc Data Science program is completely in German.',\n",
       " \"The provided context does not explicitly outline the next steps after receiving an admission. However, it does describe the process of applying for a Master's degree program, the requirements for admission, and the oral admission examination.\\n\\nIf you receive an admission, the next steps are not clearly stated in the given context, but it can be inferred that you would:\\n\\n1. Receive a notification of admission, which may include information on the next steps.\\n2. possibly receive information on the enrollment process, including any necessary documents or fees.\\n3. Be expected to prepare for the start of the lecture period, which may include registering for courses, attending orientation events, or completing other administrative tasks.\\n\\nIt is recommended that you contact the university or refer to their official website for more information on the next steps after receiving an admission.\",\n",
       " 'According to the provided context, German language skills are recommended for everyday life and for internships and working student jobs, but they are not mandatory for the MSc Data Science program. The program is taught in English, and English proficiency at level B2 CEFR is required. However, having solid knowledge of German (B1 level) is recommended, but a certificate is not necessary for the application.',\n",
       " 'You do need to reapply to defer your admission. However, you can reapply using your existing Campo account, which you used for the summer semester. You do not need to open a new account to reapply for the winter semester 2024/25.',\n",
       " 'Due to the abolition of the 60 ECTS regulation from the winter semester 2022/23, there is a fundamental change in the examinations regulations of the Data Science Program. Hence, the letter of admission from the winter semester 2021/22 will no longer be recognized. This means that your application will be completely re-examined and re-evaluated. It, therefore, makes no difference whether the offer letter has been uploaded or not.',\n",
       " 'As you found out on Campo, the seminar can be counted as a Master seminar.',\n",
       " 'This course is not recognized for the MSc Data Science study program. Therefore, even if you attend this course, you will not be able to accredit any ECTS.',\n",
       " 'To complete your degree, you need to have finished 120 ECTS, which includes all core, major, minor, application modules, seminar, and thesis. If you complete 120 ECTS by September 2024 and your supervisor submits your thesis grade to the examination office before the end of September 2024, you will be deregistered by the end of the summer semester 2024. If you complete your 120 ECTS in October 2024, then you will be deregistered by the end of the Winter Semester 2024-25. However, you can choose to de-register yourself earlier, at any time during the semester, if you wish to do so.',\n",
       " \"Here are the answers to your questions:\\n\\n1. The duration of one semester is 6 months.\\n2. There is generally no restriction on the number of hours of study per week. You can take subjects as per your comfort. It is recommended to take 30 ECTS per semester (1 ECTS = 1 hour of study).\\n3. Yes, you can work part-time. A student can work up to 20 hours a week with a part-time student job.\\n\\nI hope this helps, and I wish you the best with your Master's program in Data Science!\",\n",
       " \"To determine your eligibility for the Master's in Data Science program, the admissions committee will evaluate your profile after you apply to the study program via the campo portal. They will review your transcript and other application materials to assess your qualifications. Unfortunately, the admissions committee can only evaluate your profile after you have formally applied to the program.\",\n",
       " 'The automatic re-registration for second attempts in examinations is done manually by the examination office. Since they are currently heavily understaffed, it might take a while until you are registered. You could send a polite email to the examination office a week before the examination if you are not registered until then. Alternatively, you can also participate in the examination if you inform the teacher that you plan to attend the examination but are not registered on Campo yet.',\n",
       " 'The answer to your question is: \\n\\nI recommend you to send a course description for the seminar with all its details (e.g., module number, exact name in Campo) to the examination committee and ask him if the seminar can be included in one of the module groups of the M.Sc. Data Science.',\n",
       " 'Based on the provided context, it appears that you have the flexibility to choose modules from different application subjects and combine them. According to the text, \"You are free to choose the modules from any of the application subjects and combine them.\"\\n\\nRegarding your specific question, the context does not explicitly state that you can only take a 2.5 ECTS subject to fulfill the remaining 2.5 ECTS requirement. However, it is mentioned that \"You can use your working experience as a technical qualification if you work longer than 4 weeks in a company and if your tasks are related to Data Science.\" This implies that there might be some flexibility in how you can complete your remaining credits.\\n\\nTo answer your question directly, it is likely that you can consider enrolling in a 5 ECTS subject to meet the requirement, as long as you can provide a valid reason for why you want to take a larger module. However, it\\'s recommended that you discuss this with your mentor and the examination office to confirm the best course of action.\\n\\nIt\\'s also worth noting that the context mentions that you should \"send a polite email to the examination office and ask for the transfer of credits\" if you need to transfer ECTS from one module group to another. This suggests that you may need to get approval from the examination office for any non-standard arrangements, such as taking a larger module to fulfill a smaller credit requirement.\\n\\nIn summary, while the context does not provide a definitive answer, it\\'s likely that you can consider enrolling in a 5 ECTS subject to meet the requirement, but you should discuss this with your mentor and the examination office to confirm the best course of action.']"
      ]
     },
     "execution_count": 11,
     "metadata": {},
     "output_type": "execute_result"
    }
   ],
   "source": [
    "answers"
   ]
  },
  {
   "cell_type": "code",
   "execution_count": 12,
   "metadata": {},
   "outputs": [],
   "source": [
    "Ground_truth = [\n",
    "    \"Yes, if your Bachelor’s degree was taught in English then you can apply with a certificate from your university stating that the language of instruction for your degree has been in English.\",\n",
    "    \"Yes, it is possible to defer your admission. Just re-apply for the next semester and upload the current admission letter you received. You will be granted admission provided that there are no significant changes to the regulations and selection criteria.\",\n",
    "    \"After three unsuccessful attempts for an examination, the module will be counted as not being passed. This state cannot be changed, and you cannot pass this module in the future. If the module is an elective mandatory module (core elective module in Campo), you can choose another module and continue your studies. If the module is a core module of your study course (Mathematics of Learning, Selected Topics of Mathematics of Learning, or Deep Learning), you cannot continue your studies in this program at FAU.\",\n",
    "    \"To start your Master’s thesis, you need an official supervisor from FAU. The person must be a professor or at least have completed a habilitation ('Dr. habil.' or 'PD') and must be a member of one of the following departments: Data Science, Mathematics, Computer Science, or Artificial Intelligence in Biomedical Engineering (AIBE). Professors who are secondary members in these departments can also supervise. Your official supervisor is also the first examiner of your thesis and should propose a second examiner from any department at FAU. Additional guidance from PhD students is possible, but they cannot be official supervisors.\",\n",
    "    \"It is highly recommended that you complete 75 ECTS of your study curriculum before choosing a Master’s seminar topic. You should complete all core modules and major modules first. Your thesis topic should ideally align with your specialization and Master’s seminar, following §54 of the examination regulations ('Mentoring') and your individual study agreement.\",\n",
    "    \"A completed B.Sc. degree in Mathematics, Industrial Mathematics, Mathematical Economy, Computer Science, Data Science, or Physics from FAU or an equivalent domestic or international degree that aligns with the competence profile of the program. A GPA of 2.5 or better (German grading system) is required. Applicants with a GPA between 2.6 and 2.8 will be invited for an online interview assessing their knowledge of calculus, linear algebra, algorithms, and data structures. English proficiency at B2 CEFR or proof of English-taught education is required.\",\n",
    "    \"Completely in English.\",\n",
    "    \"Completely in German.\",\n",
    "    \"After receiving your admission letter, you must enroll for the next semester by sending certified documents via postal service to the Student Records Office. The enrollment fee should be transferred in advance, especially if transferring from abroad (recommended two weeks before). After enrollment, you gain access to online teaching resources and platforms like StudOn and Campo.\",\n",
    "    \"No, but solid German knowledge (B1) is recommended for daily life, internships, and working student jobs. However, a certificate is not required for the application.\",\n",
    "    \"You can reapply using your existing Campo account.\",\n",
    "    \"Due to the abolition of the 60 ECTS regulation from the winter semester 2022/23, the examination regulations of the Data Science program changed. The letter of admission from winter semester 2021/22 will no longer be recognized. Your application will be completely re-examined and re-evaluated, so uploading the previous offer letter makes no difference.\",\n",
    "    \"As you found on Campo, the seminar can be counted as a Master Seminar.\",\n",
    "    \"This course is not recognized for the MSc Data Science study program. Therefore, even if you attend this course, you will not be able to accredit any ECTS.\",\n",
    "    \"To complete your degree, you need 120 ECTS, including all core, major, minor, application modules, seminar, and thesis. If you complete 120 ECTS by September 2024 and your supervisor submits your thesis grade before the end of September, you will be deregistered at the end of the summer semester 2024. If you complete it in October 2024, you will be deregistered at the end of the winter semester 2024/25. You can also choose to de-register earlier if desired.\",\n",
    "    \"1) The duration of one semester is 6 months. 2) There is no restriction on study hours per week. You can take subjects at your comfort, but 30 ECTS per semester is recommended (1 ECTS = 1 hour of study). 3) Yes, you can work part-time. A student can work up to 20 hours per week with a part-time student job.\",\n",
    "    \"The admissions committee evaluates your profile only after you apply via the Campo portal.\",\n",
    "    \"The automatic re-registration for second attempts in examinations is done manually by the examination office.\",\n",
    "    \"I recommend sending a course description for the seminar, including details like the module number and exact name in Campo, to the examination committee and asking if the seminar can be included in one of the module groups of the MSc Data Science program.\",\n",
    "    \"You can complete a 5 ECTS module instead of a 2.5 ECTS module. Just ensure that you meet at least the 2.5 ECTS requirement.\"\n",
    "]"
   ]
  },
  {
   "cell_type": "code",
   "execution_count": 13,
   "metadata": {},
   "outputs": [],
   "source": [
    "from datasets import Dataset \n",
    "from ragas.metrics import faithfulness, answer_correctness\n",
    "from ragas import evaluate"
   ]
  },
  {
   "cell_type": "code",
   "execution_count": 14,
   "metadata": {},
   "outputs": [
    {
     "data": {
      "application/vnd.jupyter.widget-view+json": {
       "model_id": "3b1120f0025249ce8194d8860e20118c",
       "version_major": 2,
       "version_minor": 0
      },
      "text/plain": [
       "Evaluating:   0%|          | 0/20 [00:00<?, ?it/s]"
      ]
     },
     "metadata": {},
     "output_type": "display_data"
    },
    {
     "data": {
      "text/html": [
       "<div>\n",
       "<style scoped>\n",
       "    .dataframe tbody tr th:only-of-type {\n",
       "        vertical-align: middle;\n",
       "    }\n",
       "\n",
       "    .dataframe tbody tr th {\n",
       "        vertical-align: top;\n",
       "    }\n",
       "\n",
       "    .dataframe thead th {\n",
       "        text-align: right;\n",
       "    }\n",
       "</style>\n",
       "<table border=\"1\" class=\"dataframe\">\n",
       "  <thead>\n",
       "    <tr style=\"text-align: right;\">\n",
       "      <th></th>\n",
       "      <th>user_input</th>\n",
       "      <th>response</th>\n",
       "      <th>reference</th>\n",
       "      <th>answer_correctness</th>\n",
       "    </tr>\n",
       "  </thead>\n",
       "  <tbody>\n",
       "    <tr>\n",
       "      <th>0</th>\n",
       "      <td>Will the language of instruction of my Bachelo...</td>\n",
       "      <td>Yes, if your Bachelor's degree was taught in E...</td>\n",
       "      <td>Yes, if your Bachelor’s degree was taught in E...</td>\n",
       "      <td>0.874469</td>\n",
       "    </tr>\n",
       "    <tr>\n",
       "      <th>1</th>\n",
       "      <td>Is it possible to defer my admission to a futu...</td>\n",
       "      <td>Based on the provided context, there is no dir...</td>\n",
       "      <td>Yes, it is possible to defer your admission. J...</td>\n",
       "      <td>0.213219</td>\n",
       "    </tr>\n",
       "    <tr>\n",
       "      <th>2</th>\n",
       "      <td>What are the consequences of failing an examin...</td>\n",
       "      <td>If you fail an examination three times, the mo...</td>\n",
       "      <td>After three unsuccessful attempts for an exami...</td>\n",
       "      <td>0.993359</td>\n",
       "    </tr>\n",
       "    <tr>\n",
       "      <th>3</th>\n",
       "      <td>Who is eligible to supervise my Master’s thesis?</td>\n",
       "      <td>To supervise your Master's thesis, the person ...</td>\n",
       "      <td>To start your Master’s thesis, you need an off...</td>\n",
       "      <td>0.638242</td>\n",
       "    </tr>\n",
       "    <tr>\n",
       "      <th>4</th>\n",
       "      <td>How many ECTS credits are required before I ca...</td>\n",
       "      <td>It is highly recommended that you complete 75 ...</td>\n",
       "      <td>It is highly recommended that you complete 75 ...</td>\n",
       "      <td>0.445093</td>\n",
       "    </tr>\n",
       "    <tr>\n",
       "      <th>5</th>\n",
       "      <td>What are the admission requirements of MSc Dat...</td>\n",
       "      <td>The admission requirements for MSc Data Scienc...</td>\n",
       "      <td>A completed B.Sc. degree in Mathematics, Indus...</td>\n",
       "      <td>0.512938</td>\n",
       "    </tr>\n",
       "    <tr>\n",
       "      <th>6</th>\n",
       "      <td>What is the teaching language of MSc Data Scie...</td>\n",
       "      <td>The teaching language of the MSc Data Science ...</td>\n",
       "      <td>Completely in English.</td>\n",
       "      <td>0.447011</td>\n",
       "    </tr>\n",
       "    <tr>\n",
       "      <th>7</th>\n",
       "      <td>What is the teaching language of BSc Data Scie...</td>\n",
       "      <td>The teaching language of the BSc Data Science ...</td>\n",
       "      <td>Completely in German.</td>\n",
       "      <td>0.967110</td>\n",
       "    </tr>\n",
       "    <tr>\n",
       "      <th>8</th>\n",
       "      <td>What are the next steps if I get an admission?</td>\n",
       "      <td>The provided context does not explicitly outli...</td>\n",
       "      <td>After receiving your admission letter, you mus...</td>\n",
       "      <td>0.213240</td>\n",
       "    </tr>\n",
       "    <tr>\n",
       "      <th>9</th>\n",
       "      <td>Is German required for MSc Data Science?</td>\n",
       "      <td>According to the provided context, German lang...</td>\n",
       "      <td>No, but solid German knowledge (B1) is recomme...</td>\n",
       "      <td>0.758429</td>\n",
       "    </tr>\n",
       "    <tr>\n",
       "      <th>10</th>\n",
       "      <td>As your application period will start on 15 Fe...</td>\n",
       "      <td>You do need to reapply to defer your admission...</td>\n",
       "      <td>You can reapply using your existing Campo acco...</td>\n",
       "      <td>0.524671</td>\n",
       "    </tr>\n",
       "    <tr>\n",
       "      <th>11</th>\n",
       "      <td>Hello, I have applied to a Master's degree pro...</td>\n",
       "      <td>Due to the abolition of the 60 ECTS regulation...</td>\n",
       "      <td>Due to the abolition of the 60 ECTS regulation...</td>\n",
       "      <td>0.998225</td>\n",
       "    </tr>\n",
       "    <tr>\n",
       "      <th>12</th>\n",
       "      <td>I just wanted to know if the course 'Trustwort...</td>\n",
       "      <td>As you found out on Campo, the seminar can be ...</td>\n",
       "      <td>As you found on Campo, the seminar can be coun...</td>\n",
       "      <td>0.998765</td>\n",
       "    </tr>\n",
       "    <tr>\n",
       "      <th>13</th>\n",
       "      <td>I am currently pursuing a Master's degree in D...</td>\n",
       "      <td>This course is not recognized for the MSc Data...</td>\n",
       "      <td>This course is not recognized for the MSc Data...</td>\n",
       "      <td>1.000000</td>\n",
       "    </tr>\n",
       "    <tr>\n",
       "      <th>14</th>\n",
       "      <td>What exactly defines the completion of a degre...</td>\n",
       "      <td>To complete your degree, you need to have fini...</td>\n",
       "      <td>To complete your degree, you need 120 ECTS, in...</td>\n",
       "      <td>0.998990</td>\n",
       "    </tr>\n",
       "    <tr>\n",
       "      <th>15</th>\n",
       "      <td>Sir/Madam, I am a prospective student of your ...</td>\n",
       "      <td>Here are the answers to your questions:\\n\\n1. ...</td>\n",
       "      <td>1) The duration of one semester is 6 months. 2...</td>\n",
       "      <td>0.987799</td>\n",
       "    </tr>\n",
       "    <tr>\n",
       "      <th>16</th>\n",
       "      <td>I'm a final-year Electrical Engineering studen...</td>\n",
       "      <td>To determine your eligibility for the Master's...</td>\n",
       "      <td>The admissions committee evaluates your profil...</td>\n",
       "      <td>0.644688</td>\n",
       "    </tr>\n",
       "    <tr>\n",
       "      <th>17</th>\n",
       "      <td>I have failed two courses: 'Mathematical Found...</td>\n",
       "      <td>The automatic re-registration for second attem...</td>\n",
       "      <td>The automatic re-registration for second attem...</td>\n",
       "      <td>0.441221</td>\n",
       "    </tr>\n",
       "    <tr>\n",
       "      <th>18</th>\n",
       "      <td>I am a Master's in Data Science student keen t...</td>\n",
       "      <td>The answer to your question is: \\n\\nI recommen...</td>\n",
       "      <td>I recommend sending a course description for t...</td>\n",
       "      <td>0.995692</td>\n",
       "    </tr>\n",
       "    <tr>\n",
       "      <th>19</th>\n",
       "      <td>I am from Data Science, and I am writing to se...</td>\n",
       "      <td>Based on the provided context, it appears that...</td>\n",
       "      <td>You can complete a 5 ECTS module instead of a ...</td>\n",
       "      <td>0.475561</td>\n",
       "    </tr>\n",
       "  </tbody>\n",
       "</table>\n",
       "</div>"
      ],
      "text/plain": [
       "                                           user_input  \\\n",
       "0   Will the language of instruction of my Bachelo...   \n",
       "1   Is it possible to defer my admission to a futu...   \n",
       "2   What are the consequences of failing an examin...   \n",
       "3    Who is eligible to supervise my Master’s thesis?   \n",
       "4   How many ECTS credits are required before I ca...   \n",
       "5   What are the admission requirements of MSc Dat...   \n",
       "6   What is the teaching language of MSc Data Scie...   \n",
       "7   What is the teaching language of BSc Data Scie...   \n",
       "8      What are the next steps if I get an admission?   \n",
       "9            Is German required for MSc Data Science?   \n",
       "10  As your application period will start on 15 Fe...   \n",
       "11  Hello, I have applied to a Master's degree pro...   \n",
       "12  I just wanted to know if the course 'Trustwort...   \n",
       "13  I am currently pursuing a Master's degree in D...   \n",
       "14  What exactly defines the completion of a degre...   \n",
       "15  Sir/Madam, I am a prospective student of your ...   \n",
       "16  I'm a final-year Electrical Engineering studen...   \n",
       "17  I have failed two courses: 'Mathematical Found...   \n",
       "18  I am a Master's in Data Science student keen t...   \n",
       "19  I am from Data Science, and I am writing to se...   \n",
       "\n",
       "                                             response  \\\n",
       "0   Yes, if your Bachelor's degree was taught in E...   \n",
       "1   Based on the provided context, there is no dir...   \n",
       "2   If you fail an examination three times, the mo...   \n",
       "3   To supervise your Master's thesis, the person ...   \n",
       "4   It is highly recommended that you complete 75 ...   \n",
       "5   The admission requirements for MSc Data Scienc...   \n",
       "6   The teaching language of the MSc Data Science ...   \n",
       "7   The teaching language of the BSc Data Science ...   \n",
       "8   The provided context does not explicitly outli...   \n",
       "9   According to the provided context, German lang...   \n",
       "10  You do need to reapply to defer your admission...   \n",
       "11  Due to the abolition of the 60 ECTS regulation...   \n",
       "12  As you found out on Campo, the seminar can be ...   \n",
       "13  This course is not recognized for the MSc Data...   \n",
       "14  To complete your degree, you need to have fini...   \n",
       "15  Here are the answers to your questions:\\n\\n1. ...   \n",
       "16  To determine your eligibility for the Master's...   \n",
       "17  The automatic re-registration for second attem...   \n",
       "18  The answer to your question is: \\n\\nI recommen...   \n",
       "19  Based on the provided context, it appears that...   \n",
       "\n",
       "                                            reference  answer_correctness  \n",
       "0   Yes, if your Bachelor’s degree was taught in E...            0.874469  \n",
       "1   Yes, it is possible to defer your admission. J...            0.213219  \n",
       "2   After three unsuccessful attempts for an exami...            0.993359  \n",
       "3   To start your Master’s thesis, you need an off...            0.638242  \n",
       "4   It is highly recommended that you complete 75 ...            0.445093  \n",
       "5   A completed B.Sc. degree in Mathematics, Indus...            0.512938  \n",
       "6                              Completely in English.            0.447011  \n",
       "7                               Completely in German.            0.967110  \n",
       "8   After receiving your admission letter, you mus...            0.213240  \n",
       "9   No, but solid German knowledge (B1) is recomme...            0.758429  \n",
       "10  You can reapply using your existing Campo acco...            0.524671  \n",
       "11  Due to the abolition of the 60 ECTS regulation...            0.998225  \n",
       "12  As you found on Campo, the seminar can be coun...            0.998765  \n",
       "13  This course is not recognized for the MSc Data...            1.000000  \n",
       "14  To complete your degree, you need 120 ECTS, in...            0.998990  \n",
       "15  1) The duration of one semester is 6 months. 2...            0.987799  \n",
       "16  The admissions committee evaluates your profil...            0.644688  \n",
       "17  The automatic re-registration for second attem...            0.441221  \n",
       "18  I recommend sending a course description for t...            0.995692  \n",
       "19  You can complete a 5 ECTS module instead of a ...            0.475561  "
      ]
     },
     "execution_count": 14,
     "metadata": {},
     "output_type": "execute_result"
    }
   ],
   "source": [
    "\n",
    "data_samples = {\n",
    "    \n",
    "    'question': questions,\n",
    "    \n",
    "    \"answer\": answers,\n",
    "    \n",
    "    'ground_truth': Ground_truth\n",
    "}\n",
    "\n",
    "dataset = Dataset.from_dict(data_samples)\n",
    "score = evaluate(dataset,metrics=[answer_correctness])\n",
    "score.to_pandas()"
   ]
  },
  {
   "cell_type": "code",
   "execution_count": 15,
   "metadata": {},
   "outputs": [
    {
     "name": "stdout",
     "output_type": "stream",
     "text": [
      "0.7064360597164977\n"
     ]
    }
   ],
   "source": [
    "print(sum(score.to_pandas()[\"answer_correctness\"]) / len(score.to_pandas()[\"answer_correctness\"]))"
   ]
  },
  {
   "cell_type": "code",
   "execution_count": null,
   "metadata": {},
   "outputs": [],
   "source": []
  }
 ],
 "metadata": {
  "kernelspec": {
   "display_name": "base",
   "language": "python",
   "name": "python3"
  },
  "language_info": {
   "codemirror_mode": {
    "name": "ipython",
    "version": 3
   },
   "file_extension": ".py",
   "mimetype": "text/x-python",
   "name": "python",
   "nbconvert_exporter": "python",
   "pygments_lexer": "ipython3",
   "version": "3.11.7"
  }
 },
 "nbformat": 4,
 "nbformat_minor": 2
}
